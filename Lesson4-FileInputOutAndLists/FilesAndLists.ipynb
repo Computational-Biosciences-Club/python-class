{
 "cells": [
  {
   "cell_type": "markdown",
   "metadata": {},
   "source": [
    "# File I/O and Lists\n",
    "\n",
    "By the end of this lesson, you will learn how to read and write data from files using Python and how to store and manipulate data using an important data structure in Python called lists. \n",
    "\n",
    "##  Learning Objectives\n",
    "\n",
    "1. Open and read data from files\n",
    "2. Write data to files\n",
    "3. Create lists and learn basic list operations: length, index, append, extend, sort, reverse, insert, remove\n",
    "4. Read data from a file, store in a list and manipulate the list. Then write data back to a new file\n"
   ]
  },
  {
   "cell_type": "markdown",
   "metadata": {},
   "source": [
    "## Files"
   ]
  },
  {
   "cell_type": "code",
   "execution_count": 2,
   "metadata": {},
   "outputs": [],
   "source": [
    "filepath = 'dna.txt'\n",
    "my_file = open(filepath)"
   ]
  },
  {
   "cell_type": "markdown",
   "metadata": {},
   "source": [
    "### File Objects\n",
    "\n",
    "* cannot directly print a file object"
   ]
  },
  {
   "cell_type": "code",
   "execution_count": 3,
   "metadata": {},
   "outputs": [
    {
     "name": "stdout",
     "output_type": "stream",
     "text": [
      "<open file 'dna.txt', mode 'r' at 0x10718c780>\n"
     ]
    }
   ],
   "source": [
    "print(my_file)"
   ]
  },
  {
   "cell_type": "markdown",
   "metadata": {},
   "source": [
    "### Reading a file object"
   ]
  },
  {
   "cell_type": "code",
   "execution_count": 4,
   "metadata": {},
   "outputs": [
    {
     "name": "stdout",
     "output_type": "stream",
     "text": [
      "ATATCGCGAA\n",
      "\n"
     ]
    }
   ],
   "source": [
    "file_contents = my_file.read()\n",
    "print (file_contents)"
   ]
  },
  {
   "cell_type": "markdown",
   "metadata": {},
   "source": [
    "### \"Exhausting\" a file"
   ]
  },
  {
   "cell_type": "code",
   "execution_count": 5,
   "metadata": {},
   "outputs": [
    {
     "name": "stdout",
     "output_type": "stream",
     "text": [
      "ATATCGCGAA\n",
      "\n"
     ]
    }
   ],
   "source": [
    "my_file = open(filepath)\n",
    "print(my_file.read())"
   ]
  },
  {
   "cell_type": "code",
   "execution_count": 6,
   "metadata": {},
   "outputs": [
    {
     "name": "stdout",
     "output_type": "stream",
     "text": [
      "\n"
     ]
    }
   ],
   "source": [
    "print(my_file.read())"
   ]
  },
  {
   "cell_type": "markdown",
   "metadata": {},
   "source": [
    "No output is displayed because the file object has already been read through.\n",
    "\n",
    "The file must be read in again to start from the beginning.\n",
    "\n",
    "Storing the output into a variable (file_contents) allows us to use the file data without worry about this."
   ]
  },
  {
   "cell_type": "code",
   "execution_count": 7,
   "metadata": {},
   "outputs": [
    {
     "name": "stdout",
     "output_type": "stream",
     "text": [
      "ATATCGCGAA\n",
      "\n"
     ]
    }
   ],
   "source": [
    "print (file_contents)"
   ]
  },
  {
   "cell_type": "markdown",
   "metadata": {},
   "source": [
    "### Working with the file"
   ]
  },
  {
   "cell_type": "code",
   "execution_count": 8,
   "metadata": {},
   "outputs": [
    {
     "name": "stdout",
     "output_type": "stream",
     "text": [
      "sequence is ATATCGCGAA\n",
      " and the length is 11\n"
     ]
    }
   ],
   "source": [
    "dna_length = len(file_contents)\n",
    "print('sequence is ' + file_contents + ' and the length is ' + str(dna_length))"
   ]
  },
  {
   "cell_type": "markdown",
   "metadata": {},
   "source": [
    "Output looks strange and the length is incorrect due to a hidden newline ('\\n') character\n",
    "\n",
    "The file we read in is actually 2 lines with the second line being blank"
   ]
  },
  {
   "cell_type": "markdown",
   "metadata": {},
   "source": [
    "### Stripping"
   ]
  },
  {
   "cell_type": "code",
   "execution_count": 9,
   "metadata": {},
   "outputs": [
    {
     "name": "stdout",
     "output_type": "stream",
     "text": [
      "sequence is ATATCGCGAA and the length is 10\n"
     ]
    }
   ],
   "source": [
    "my_dna_strip = file_contents.strip('\\n')\n",
    "print('sequence is ' + my_dna_strip + ' and the length is ' + str(len(my_dna_strip)))"
   ]
  },
  {
   "cell_type": "markdown",
   "metadata": {},
   "source": [
    ".strip() removes any leading or trailing instances of the given character"
   ]
  },
  {
   "cell_type": "code",
   "execution_count": 12,
   "metadata": {},
   "outputs": [
    {
     "name": "stdout",
     "output_type": "stream",
     "text": [
      "TATCGCG\n"
     ]
    }
   ],
   "source": [
    "new_dna = my_dna_strip.strip('A')\n",
    "print(new_dna)"
   ]
  },
  {
   "cell_type": "markdown",
   "metadata": {},
   "source": [
    "### Closing files\n",
    "\n",
    "It's good programming practice to close files once you have read from them.\n",
    "There are limits by your OS on how many files can be kept open. "
   ]
  },
  {
   "cell_type": "code",
   "execution_count": 14,
   "metadata": {},
   "outputs": [],
   "source": [
    "my_file2 = open('three_seq.txt')\n",
    "file_contents2 = my_file2.read()\n",
    "my_file2.close()"
   ]
  },
  {
   "cell_type": "markdown",
   "metadata": {},
   "source": [
    "## Lists \n",
    "\n",
    "* Most versatile python data structure\n",
    "* Comma-separated values (elements) surrounded by []\n",
    "* Values can be anything"
   ]
  },
  {
   "cell_type": "code",
   "execution_count": 15,
   "metadata": {},
   "outputs": [
    {
     "name": "stdout",
     "output_type": "stream",
     "text": [
      "['AGTAC', 'GCCTTTA', 'GAT', 'CCCAAA']\n"
     ]
    }
   ],
   "source": [
    "mySequences = [\"AGTAC\", \"GCCTTTA\", \"GAT\", \"CCCAAA\"]\n",
    "print mySequences"
   ]
  },
  {
   "cell_type": "code",
   "execution_count": 16,
   "metadata": {},
   "outputs": [],
   "source": [
    "seq1 = \"AGTAC\"\n",
    "seq2 = \"GCCTTTA\"\n",
    "seq3 = \"GAT\"\n",
    "seq4 = \"CCCAAA\""
   ]
  },
  {
   "cell_type": "code",
   "execution_count": 17,
   "metadata": {},
   "outputs": [
    {
     "name": "stdout",
     "output_type": "stream",
     "text": [
      "['AGTAC', 'GCCTTTA', 'GAT', 'CCCAAA']\n"
     ]
    }
   ],
   "source": [
    "# You can use variables to fill up a list\n",
    "mySequences = [seq1,seq2,seq3,seq4]\n",
    "print mySequences"
   ]
  },
  {
   "cell_type": "code",
   "execution_count": 18,
   "metadata": {},
   "outputs": [
    {
     "name": "stdout",
     "output_type": "stream",
     "text": [
      "[256, 753, 315.0, 962.53, 6472]\n"
     ]
    }
   ],
   "source": [
    "myExpressionValues = [256,753,315.0,962.53,6472]\n",
    "print myExpressionValues"
   ]
  },
  {
   "cell_type": "code",
   "execution_count": 19,
   "metadata": {},
   "outputs": [
    {
     "name": "stdout",
     "output_type": "stream",
     "text": [
      "['AGTAC', 256, 'GCCTTTA', 753]\n"
     ]
    }
   ],
   "source": [
    "mySeqAndExpressionVals = [\"AGTAC\",256,\"GCCTTTA\",753]\n",
    "print mySeqAndExpressionVals"
   ]
  },
  {
   "cell_type": "markdown",
   "metadata": {},
   "source": [
    "### Manipulating Lists\n",
    "\n",
    "Functions we will cover: length, index, append, extend, sort, reverse, insert, remove\n"
   ]
  },
  {
   "cell_type": "markdown",
   "metadata": {},
   "source": [
    "#### These are some operations we have used previously on strings"
   ]
  },
  {
   "cell_type": "code",
   "execution_count": 20,
   "metadata": {},
   "outputs": [
    {
     "name": "stdout",
     "output_type": "stream",
     "text": [
      "4\n"
     ]
    }
   ],
   "source": [
    "# Get length of the list\n",
    "print len(mySequences)"
   ]
  },
  {
   "cell_type": "code",
   "execution_count": 21,
   "metadata": {},
   "outputs": [
    {
     "name": "stdout",
     "output_type": "stream",
     "text": [
      "AGTAC\n",
      "['GAT', 'CCCAAA']\n"
     ]
    }
   ],
   "source": [
    "# Access individual elements in a list\n",
    "print mySequences[0]\n",
    "print mySequences[2:4]"
   ]
  },
  {
   "cell_type": "code",
   "execution_count": 22,
   "metadata": {},
   "outputs": [
    {
     "name": "stdout",
     "output_type": "stream",
     "text": [
      "['AGTAC', 'GCCTTTA', 'GAT', 'CCCAAA']\n"
     ]
    }
   ],
   "source": [
    "# Concatenate two lists\n",
    "mySequences1 = [seq1,seq2]\n",
    "mySequences2 = [seq3,seq4]\n",
    "mySeq1and2 = mySequences1 + mySequences2\n",
    "print mySeq1and2"
   ]
  },
  {
   "cell_type": "markdown",
   "metadata": {},
   "source": [
    "#### These are some operations that are unique to lists"
   ]
  },
  {
   "cell_type": "code",
   "execution_count": 23,
   "metadata": {},
   "outputs": [
    {
     "name": "stdout",
     "output_type": "stream",
     "text": [
      "['AGTAC', 'GCCTTTA', 'GATAC', 'GAT', 'CCCAAA']\n"
     ]
    }
   ],
   "source": [
    "# Insert elements into a list at a specific index\n",
    "Seq5 = \"GATAC\"\n",
    "mySequences.insert(2,Seq5)\n",
    "print mySequences"
   ]
  },
  {
   "cell_type": "code",
   "execution_count": 24,
   "metadata": {},
   "outputs": [
    {
     "name": "stdout",
     "output_type": "stream",
     "text": [
      "['AGTAC', 'GCCTTTA', 'GATAC', 'GAT', 'CCCAAA', 'ACCCTA']\n"
     ]
    }
   ],
   "source": [
    "# Append elements at the end of the list\n",
    "Seq6 = \"ACCCTA\"\n",
    "mySequences.append(Seq6)\n",
    "print mySequences"
   ]
  },
  {
   "cell_type": "code",
   "execution_count": 25,
   "metadata": {},
   "outputs": [
    {
     "name": "stdout",
     "output_type": "stream",
     "text": [
      "['AGTAC', 'GCCTTTA', 'GAT', 'CCCAAA', 'ACCCTA']\n"
     ]
    }
   ],
   "source": [
    "# Remove elements from the list\n",
    "mySequences.remove(Seq5)\n",
    "print mySequences"
   ]
  },
  {
   "cell_type": "code",
   "execution_count": 26,
   "metadata": {},
   "outputs": [
    {
     "name": "stdout",
     "output_type": "stream",
     "text": [
      "GAT\n"
     ]
    },
    {
     "data": {
      "text/plain": [
       "2"
      ]
     },
     "execution_count": 26,
     "metadata": {},
     "output_type": "execute_result"
    }
   ],
   "source": [
    "# Find an element within a list and return its index\n",
    "print seq3\n",
    "mySequences.index(seq3)"
   ]
  },
  {
   "cell_type": "code",
   "execution_count": 27,
   "metadata": {},
   "outputs": [
    {
     "name": "stdout",
     "output_type": "stream",
     "text": [
      "['ACCCTA', 'AGTAC', 'CCCAAA', 'GAT', 'GCCTTTA']\n",
      "[256, 315.0, 753, 962.53, 6472]\n"
     ]
    }
   ],
   "source": [
    "# Sort a list \n",
    "mySequences.sort()\n",
    "print mySequences\n",
    "myExpressionValues.sort()\n",
    "print myExpressionValues"
   ]
  },
  {
   "cell_type": "code",
   "execution_count": 28,
   "metadata": {},
   "outputs": [
    {
     "name": "stdout",
     "output_type": "stream",
     "text": [
      "[6472, 962.53, 753, 315.0, 256]\n"
     ]
    }
   ],
   "source": [
    "# Reverse a list\n",
    "myExpressionValues.reverse()\n",
    "print myExpressionValues"
   ]
  },
  {
   "cell_type": "markdown",
   "metadata": {},
   "source": [
    "## Read data from file into a list\n",
    "\n",
    "Let's read data from a fasta file that has two sequences and store it into a list\n"
   ]
  },
  {
   "cell_type": "code",
   "execution_count": 29,
   "metadata": {},
   "outputs": [],
   "source": [
    "# Read data from fasta file\n",
    "seqfile = open(\"three_seq.txt\")\n",
    "seqsToRead = seqfile.read()\n",
    "seqfile.close()"
   ]
  },
  {
   "cell_type": "code",
   "execution_count": 30,
   "metadata": {},
   "outputs": [
    {
     "name": "stdout",
     "output_type": "stream",
     "text": [
      "ATCAGACGCGCAGAGGAGGCGGGGCCGCGGCTGGTTTCCTGCCGGGGGGCGGCTCTGGGCCGCCGAGTCCCCTCCTCCCGCCCCTGAGGAGGAGGAGCCGCCGCCACCCGCCGCGCCCGACACCCGGGAGGCCCCGCCAGCCCGCGGGAGAGGCCCAGCGGGAGTCGCGGAACAGCAGGCCCGAGCCCACCGCGCCGGGCCCCGGACGCCGCGCGGAAAAG\n",
      "CTGCTCCGGAGTGACGCGGGCCCGGGCGCGACGGTCTCGGCGGCGGCGGCGGCGGCGACAGAGCGAGCGCGGCGCGGGGCCACC\n",
      "AGAAGGAGGGCGTGGTAATATGAAGTCAGTTCCGGTTGGTGTAAAACCCCCGGGGCGGCGGCGAACTGGCTTTAGATGCTTCTGGGTCGCGGTGTGCTAAGCGAGGAGTCCGAGTGTGTGAGCTTGAGAGCCGCGCGCTAGAGCGACCCGGCGAGGG\n"
     ]
    }
   ],
   "source": [
    "print seqsToRead"
   ]
  },
  {
   "cell_type": "code",
   "execution_count": 31,
   "metadata": {},
   "outputs": [
    {
     "data": {
      "text/plain": [
       "'ATCAGACGCGCAGAGGAGGCGGGGCCGCGGCTGGTTTCCTGCCGGGGGGCGGCTCTGGGCCGCCGAGTCCCCTCCTCCCGCCCCTGAGGAGGAGGAGCCGCCGCCACCCGCCGCGCCCGACACCCGGGAGGCCCCGCCAGCCCGCGGGAGAGGCCCAGCGGGAGTCGCGGAACAGCAGGCCCGAGCCCACCGCGCCGGGCCCCGGACGCCGCGCGGAAAAG\\nCTGCTCCGGAGTGACGCGGGCCCGGGCGCGACGGTCTCGGCGGCGGCGGCGGCGGCGACAGAGCGAGCGCGGCGCGGGGCCACC\\nAGAAGGAGGGCGTGGTAATATGAAGTCAGTTCCGGTTGGTGTAAAACCCCCGGGGCGGCGGCGAACTGGCTTTAGATGCTTCTGGGTCGCGGTGTGCTAAGCGAGGAGTCCGAGTGTGTGAGCTTGAGAGCCGCGCGCTAGAGCGACCCGGCGAGGG'"
      ]
     },
     "execution_count": 31,
     "metadata": {},
     "output_type": "execute_result"
    }
   ],
   "source": [
    "seqsToRead.strip('\\n')"
   ]
  },
  {
   "cell_type": "code",
   "execution_count": 33,
   "metadata": {},
   "outputs": [
    {
     "name": "stdout",
     "output_type": "stream",
     "text": [
      "['ATCAGACGCGCAGAGGAGGCGGGGCCGCGGCTGGTTTCCTGCCGGGGGGCGGCTCTGGGCCGCCGAGTCCCCTCCTCCCGCCCCTGAGGAGGAGGAGCCGCCGCCACCCGCCGCGCCCGACACCCGGGAGGCCCCGCCAGCCCGCGGGAGAGGCCCAGCGGGAGTCGCGGAACAGCAGGCCCGAGCCCACCGCGCCGGGCCCCGGACGCCGCGCGGAAAAG', 'CTGCTCCGGAGTGACGCGGGCCCGGGCGCGACGGTCTCGGCGGCGGCGGCGGCGGCGACAGAGCGAGCGCGGCGCGGGGCCACC', 'AGAAGGAGGGCGTGGTAATATGAAGTCAGTTCCGGTTGGTGTAAAACCCCCGGGGCGGCGGCGAACTGGCTTTAGATGCTTCTGGGTCGCGGTGTGCTAAGCGAGGAGTCCGAGTGTGTGAGCTTGAGAGCCGCGCGCTAGAGCGACCCGGCGAGGG']\n"
     ]
    }
   ],
   "source": [
    "seqs = seqsToRead.strip('\\n').split('\\n')\n",
    "print seqs"
   ]
  },
  {
   "cell_type": "markdown",
   "metadata": {},
   "source": [
    "The split operation is very useful to separate strings based on a certain character. The output of split is a list with the different substrings that were separated as each element of the list"
   ]
  },
  {
   "cell_type": "code",
   "execution_count": 34,
   "metadata": {},
   "outputs": [
    {
     "name": "stdout",
     "output_type": "stream",
     "text": [
      "ATCAGACGCGCAGAGGAGGCGGGGCCGCGGCTGGTTTCCTGCCGGGGGGCGGCTCTGGGCCGCCGAGTCCCCTCCTCCCGCCCCTGAGGAGGAGGAGCCGCCGCCACCCGCCGCGCCCGACACCCGGGAGGCCCCGCCAGCCCGCGGGAGAGGCCCAGCGGGAGTCGCGGAACAGCAGGCCCGAGCCCACCGCGCCGGGCCCCGGACGCCGCGCGGAAAAG\n"
     ]
    }
   ],
   "source": [
    "print seqs[0]"
   ]
  },
  {
   "cell_type": "code",
   "execution_count": 35,
   "metadata": {},
   "outputs": [
    {
     "name": "stdout",
     "output_type": "stream",
     "text": [
      "None\n"
     ]
    }
   ],
   "source": [
    "seq_to_add = \"GGGCGGGGCCGCGGGAGGGCGGGGCCGGCGCGGCGAGCGCACCAGCAGCATCCTGGCTCAGCCGCGGCGGTGGCGGGGGCGCAACCAGCGGGCCGAGGCGGCGGCGCCAGCGGCGCCTTAAATAGCATCCAGAGCCGGCGCGGGGCAGGGAGTGGGCTGCAGTGACAGCCGGCGGCGGAGCGGCCGGTCCACGGAGGAGAATTCAGCTTAGAGAACTATCAACACAGGACA\"\n",
    "seqs.append(seq_to_add)\n",
    "print seqs"
   ]
  },
  {
   "cell_type": "markdown",
   "metadata": {},
   "source": [
    "## Write data from list to file\n",
    "\n",
    "Let's write data from the list to a new file"
   ]
  },
  {
   "cell_type": "code",
   "execution_count": 37,
   "metadata": {},
   "outputs": [],
   "source": [
    "# Use the 'w' to indicate that this file is being opened to write\n",
    "file_to_write = open(\"four_seq.txt\",'w')"
   ]
  },
  {
   "cell_type": "code",
   "execution_count": 38,
   "metadata": {},
   "outputs": [
    {
     "name": "stdout",
     "output_type": "stream",
     "text": [
      "ATCAGACGCGCAGAGGAGGCGGGGCCGCGGCTGGTTTCCTGCCGGGGGGCGGCTCTGGGCCGCCGAGTCCCCTCCTCCCGCCCCTGAGGAGGAGGAGCCGCCGCCACCCGCCGCGCCCGACACCCGGGAGGCCCCGCCAGCCCGCGGGAGAGGCCCAGCGGGAGTCGCGGAACAGCAGGCCCGAGCCCACCGCGCCGGGCCCCGGACGCCGCGCGGAAAAG\n",
      "CTGCTCCGGAGTGACGCGGGCCCGGGCGCGACGGTCTCGGCGGCGGCGGCGGCGGCGACAGAGCGAGCGCGGCGCGGGGCCACC\n",
      "AGAAGGAGGGCGTGGTAATATGAAGTCAGTTCCGGTTGGTGTAAAACCCCCGGGGCGGCGGCGAACTGGCTTTAGATGCTTCTGGGTCGCGGTGTGCTAAGCGAGGAGTCCGAGTGTGTGAGCTTGAGAGCCGCGCGCTAGAGCGACCCGGCGAGGG\n",
      "GGGCGGGGCCGCGGGAGGGCGGGGCCGGCGCGGCGAGCGCACCAGCAGCATCCTGGCTCAGCCGCGGCGGTGGCGGGGGCGCAACCAGCGGGCCGAGGCGGCGGCGCCAGCGGCGCCTTAAATAGCATCCAGAGCCGGCGCGGGGCAGGGAGTGGGCTGCAGTGACAGCCGGCGGCGGAGCGGCCGGTCCACGGAGGAGAATTCAGCTTAGAGAACTATCAACACAGGACA\n"
     ]
    }
   ],
   "source": [
    "# join the sequences in list back together using join operation\n",
    "seqs_to_write = ('\\n').join(seqs)\n",
    "print seqs_to_write"
   ]
  },
  {
   "cell_type": "code",
   "execution_count": 39,
   "metadata": {},
   "outputs": [],
   "source": [
    "# write sequence to file\n",
    "file_to_write.write(seqs_to_write)"
   ]
  },
  {
   "cell_type": "code",
   "execution_count": 40,
   "metadata": {},
   "outputs": [],
   "source": [
    "# Remember to always close the file\n",
    "file_to_write.close()"
   ]
  },
  {
   "cell_type": "markdown",
   "metadata": {},
   "source": [
    "# In-Class exercise"
   ]
  },
  {
   "cell_type": "markdown",
   "metadata": {},
   "source": [
    "* Read in the newly written file 'four_seq.txt'\n",
    "* Calculate the GC content of the last sequence in that file\n",
    "* Write a new file that has the sentence: \"This sequence [sequence] has a [GCcontent]% GC content."
   ]
  },
  {
   "cell_type": "code",
   "execution_count": 41,
   "metadata": {},
   "outputs": [],
   "source": [
    "# Read in file four_seq.txt. Remember to close the file! "
   ]
  },
  {
   "cell_type": "code",
   "execution_count": 42,
   "metadata": {},
   "outputs": [],
   "source": [
    "# Strip and split the sequences using newline character into a list"
   ]
  },
  {
   "cell_type": "code",
   "execution_count": 43,
   "metadata": {},
   "outputs": [],
   "source": [
    "# Get the last sequence from the list"
   ]
  },
  {
   "cell_type": "code",
   "execution_count": 44,
   "metadata": {},
   "outputs": [],
   "source": [
    "# Calculate the GC content of the sequence"
   ]
  },
  {
   "cell_type": "code",
   "execution_count": 45,
   "metadata": {},
   "outputs": [],
   "source": [
    "# Create the string that will be written to the new file"
   ]
  },
  {
   "cell_type": "code",
   "execution_count": 46,
   "metadata": {},
   "outputs": [],
   "source": [
    "# Open file to be written to and write the string to the file. Close the file. "
   ]
  },
  {
   "cell_type": "markdown",
   "metadata": {},
   "source": [
    "# Homework"
   ]
  },
  {
   "cell_type": "markdown",
   "metadata": {},
   "source": [
    "1. Read in sequences from file HW_seq.txt\n",
    "2. Store these sequences in a list\n",
    "  * Add these sequences to the first and second position in the list: AGGACGGGCG, CATGGATGGGTGCAC\n",
    "  * Add this sequence to the end of the list: AGCTCATGAGCCAGGA\n",
    "  * Remove sequence that is in the third position\n",
    "  * Determine the average length of these sequences \n",
    "  * Determine the total number of ATGs in these sequences\n",
    "3. Write the two statements to a single new file seperated by a newline\n",
    "        E.g. Average of length of sequences: 45\n",
    "            Total number of ATGs: 10"
   ]
  },
  {
   "cell_type": "code",
   "execution_count": null,
   "metadata": {},
   "outputs": [],
   "source": []
  }
 ],
 "metadata": {
  "kernelspec": {
   "display_name": "Python 2",
   "language": "python",
   "name": "python2"
  },
  "language_info": {
   "codemirror_mode": {
    "name": "ipython",
    "version": 2
   },
   "file_extension": ".py",
   "mimetype": "text/x-python",
   "name": "python",
   "nbconvert_exporter": "python",
   "pygments_lexer": "ipython2",
   "version": "2.7.10"
  }
 },
 "nbformat": 4,
 "nbformat_minor": 2
}
