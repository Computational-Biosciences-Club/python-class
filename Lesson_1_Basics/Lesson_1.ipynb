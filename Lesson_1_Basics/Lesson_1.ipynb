{
 "cells": [
  {
   "cell_type": "markdown",
   "metadata": {
    "colab_type": "text",
    "id": "view-in-github"
   },
   "source": [
    "<a href=\"https://colab.research.google.com/github/How-to-Learn-to-Code/python-class/blob/master/Lesson_1.ipynb\" target=\"_parent\"><img src=\"https://colab.research.google.com/assets/colab-badge.svg\" alt=\"Open In Colab\"/></a>"
   ]
  },
  {
   "cell_type": "markdown",
   "metadata": {
    "colab_type": "text",
    "id": "JA9KlIebOBa3"
   },
   "source": [
    "## Lesson 1 - Set up and the basics\n",
    "\n",
    "Learning objective:  Students will be comfortable doing basic commands in Jupyter notebooks, understand what a programming language is, and understand the difference between a Jupyter notebook and a python script.\n",
    "\n",
    "**Specific coding skills:**\n",
    "\n",
    "\n",
    "*   basic math operators (+, -, *, /)\n",
    "*   assignment operator (=)\n",
    "*   basic functions (len(), type())\n",
    "*   common data classes (integer, float, string, boolean)\n",
    "*   comparison operators (>, <, ==, >=, <=) \n",
    "\n"
   ]
  },
  {
   "cell_type": "markdown",
   "metadata": {
    "colab_type": "text",
    "id": "ohVu10_HF8WU"
   },
   "source": [
    "### Introduction to jupyter\n",
    "\n",
    "\"The Jupyter Notebook is an incredibly powerful tool for interactively developing and presenting data science projects. A notebook integrates code and its output into a single document that combines visualizations, narrative text, mathematical equations, and other rich media. The intuitive workflow promotes iterative and rapid development, making notebooks an increasingly popular choice at the heart of contemporary data science, analysis, and increasingly science at large. \" - [dataquest](https://www.dataquest.io/blog/jupyter-notebook-tutorial/)\n",
    "\n",
    "All of our lessons will be presented in jupyter notebooks. You can follow along in a partially filled out jupyter notebook and fill in lessons as you go. Let's get started! \n",
    "\n",
    "Each cell can include text (like this one) or code. To run the python code in a cell, you just hit shift + enter. Try it with the code below.\n"
   ]
  },
  {
   "cell_type": "code",
   "execution_count": 9,
   "metadata": {
    "colab": {},
    "colab_type": "code",
    "id": "cz-05_Z5N-Ko"
   },
   "outputs": [
    {
     "name": "stdout",
     "output_type": "stream",
     "text": [
      "Hello World!\n"
     ]
    }
   ],
   "source": [
    "print(\"Hello World!\")"
   ]
  },
  {
   "cell_type": "markdown",
   "metadata": {
    "colab_type": "text",
    "id": "RLq-CchwAGvP"
   },
   "source": [
    "### Basic math operators\n",
    "Python can do math for you, which is convenient. To get used to doing writing and running code in jupyter, we're going to do some basic math. Let's calculate the following expressions:\n",
    "\n",
    "$$ 2 + 3 $$"
   ]
  },
  {
   "cell_type": "code",
   "execution_count": 10,
   "metadata": {
    "colab": {},
    "colab_type": "code",
    "id": "W2okep-wAeLi"
   },
   "outputs": [
    {
     "data": {
      "text/plain": [
       "5"
      ]
     },
     "execution_count": 10,
     "metadata": {},
     "output_type": "execute_result"
    }
   ],
   "source": [
    "2+3"
   ]
  },
  {
   "cell_type": "markdown",
   "metadata": {
    "colab_type": "text",
    "id": "qgxIbZKpAo6v"
   },
   "source": [
    "$$ \\frac{6}{2} * 20 +100 $$"
   ]
  },
  {
   "cell_type": "code",
   "execution_count": null,
   "metadata": {
    "colab": {},
    "colab_type": "code",
    "id": "CutTFG-vAx4O"
   },
   "outputs": [],
   "source": [
    "6/2*20+100"
   ]
  },
  {
   "cell_type": "markdown",
   "metadata": {
    "colab_type": "text",
    "id": "jRoD3bj5A8Um"
   },
   "source": [
    "$$ 2^{24} $$"
   ]
  },
  {
   "cell_type": "code",
   "execution_count": 11,
   "metadata": {
    "colab": {},
    "colab_type": "code",
    "id": "6UBGcCmtA30K"
   },
   "outputs": [
    {
     "data": {
      "text/plain": [
       "26"
      ]
     },
     "execution_count": 11,
     "metadata": {},
     "output_type": "execute_result"
    }
   ],
   "source": [
    "2^(24)"
   ]
  },
  {
   "cell_type": "markdown",
   "metadata": {
    "colab_type": "text",
    "id": "aMHMguWaBQXF"
   },
   "source": [
    "Did you get the answer you expected for the last problem? If you used a `^` for the exponent you got the answer 26, which definitely isn't right. It is important to check the answers you get from code to make sure they seem reasonable. If they don't seem right, there is probably a bug in your code. \n",
    "\n",
    "In python you have to use `**` for exponents. The `^` operator is used for bit-wise XOR in python (and many other programming languages), which we will not discuss in this class. Try again using this `**` operator!"
   ]
  },
  {
   "cell_type": "code",
   "execution_count": 12,
   "metadata": {
    "colab": {},
    "colab_type": "code",
    "id": "2hgyLorIBE-u"
   },
   "outputs": [
    {
     "data": {
      "text/plain": [
       "16777216"
      ]
     },
     "execution_count": 12,
     "metadata": {},
     "output_type": "execute_result"
    }
   ],
   "source": [
    "2**24"
   ]
  },
  {
   "cell_type": "markdown",
   "metadata": {
    "colab_type": "text",
    "id": "TMTq6N5YCJIw"
   },
   "source": [
    "That's better! Make sure you use `**` any time you need to use exponents."
   ]
  },
  {
   "cell_type": "markdown",
   "metadata": {
    "colab_type": "text",
    "id": "w0JespP9CxHF"
   },
   "source": [
    "### The assignment operator\n",
    "\n",
    "It is convenient to have python store and remember variables so you can use them later. You can do this with the assignment operator (`=`). Let's assign a few variables."
   ]
  },
  {
   "cell_type": "code",
   "execution_count": 2,
   "metadata": {
    "colab": {},
    "colab_type": "code",
    "id": "dULAPQ9FCHJs"
   },
   "outputs": [
    {
     "name": "stdout",
     "output_type": "stream",
     "text": [
      "1 2 3\n"
     ]
    }
   ],
   "source": [
    "x = 1\n",
    "y = 2\n",
    "z = 3\n",
    "print(x, y, z)"
   ]
  },
  {
   "cell_type": "markdown",
   "metadata": {
    "colab_type": "text",
    "id": "653q09cPDx6n"
   },
   "source": [
    "Here you can see that we assigned the values 1, 2, and 3 to the variables `x`, `y`, and `z` respectively. We then printed x, y, and z to see what the values were. Try assigning variables yourself. Assign 2, 4, and 8 to `a`, `b`, and `c` respectively. "
   ]
  },
  {
   "cell_type": "code",
   "execution_count": 3,
   "metadata": {
    "colab": {},
    "colab_type": "code",
    "id": "QXwu1qgWDwPW"
   },
   "outputs": [],
   "source": [
    "a = 2\n",
    "b = 4\n",
    "c = 8"
   ]
  },
  {
   "cell_type": "markdown",
   "metadata": {
    "colab_type": "text",
    "id": "4lrj8FS3EhvC"
   },
   "source": [
    "Notice that if you don't include a `print()` statement, running the cell doesn't return anything. That's okay though; the variables are still assigned (unless you got an error) and available for use in all other code cells. \n",
    "\n",
    "Now we can easily call our variables and do basic operations with them. Calculate the following:\n",
    "$$ x + b $$\n",
    "$$ z * c $$\n",
    "$$ \\left(\\frac{b}{y}\\right) ^ z $$"
   ]
  },
  {
   "cell_type": "code",
   "execution_count": 1,
   "metadata": {
    "colab": {},
    "colab_type": "code",
    "id": "lYA3JMNVEfzp"
   },
   "outputs": [
    {
     "ename": "NameError",
     "evalue": "name 'x' is not defined",
     "output_type": "error",
     "traceback": [
      "\u001b[0;31m---------------------------------------------------------------------------\u001b[0m",
      "\u001b[0;31mNameError\u001b[0m                                 Traceback (most recent call last)",
      "\u001b[1;32m/home/lswhiteh/python-class/Lesson_1.ipynb Cell 19'\u001b[0m in \u001b[0;36m<cell line: 1>\u001b[0;34m()\u001b[0m\n\u001b[0;32m----> <a href='vscode-notebook-cell://wsl%2Bubuntu/home/lswhiteh/python-class/Lesson_1.ipynb#ch0000018vscode-remote?line=0'>1</a>\u001b[0m x\u001b[39m+\u001b[39mb\n\u001b[1;32m      <a href='vscode-notebook-cell://wsl%2Bubuntu/home/lswhiteh/python-class/Lesson_1.ipynb#ch0000018vscode-remote?line=1'>2</a>\u001b[0m z\u001b[39m*\u001b[39mc\n\u001b[1;32m      <a href='vscode-notebook-cell://wsl%2Bubuntu/home/lswhiteh/python-class/Lesson_1.ipynb#ch0000018vscode-remote?line=2'>3</a>\u001b[0m (b\u001b[39m/\u001b[39my)\u001b[39m*\u001b[39m\u001b[39m*\u001b[39mz\n",
      "\u001b[0;31mNameError\u001b[0m: name 'x' is not defined"
     ]
    }
   ],
   "source": [
    "x+b\n",
    "z*c\n",
    "(b/y)**z"
   ]
  },
  {
   "cell_type": "markdown",
   "metadata": {
    "colab_type": "text",
    "id": "TyEB5EgBFnJ-"
   },
   "source": [
    "Notice that only the last solution is returned. If you want all of the solutions to be returned, include print statements."
   ]
  },
  {
   "cell_type": "code",
   "execution_count": null,
   "metadata": {
    "colab": {},
    "colab_type": "code",
    "id": "QnTGUc1NFkaK"
   },
   "outputs": [],
   "source": [
    "print(x+b)\n",
    "print(z*c)\n",
    "print((b/y)**z)"
   ]
  },
  {
   "cell_type": "markdown",
   "metadata": {
    "colab_type": "text",
    "id": "2Mg9-mAEKPBO"
   },
   "source": [
    "### Data types\n",
    "In this class we will be focusing on four main data types\n",
    "* string\n",
    "* integer\n",
    "* float\n",
    "* boolean"
   ]
  },
  {
   "cell_type": "markdown",
   "metadata": {
    "colab_type": "text",
    "id": "V0zIo5U5MaY7"
   },
   "source": [
    "#### Strings\n",
    "Strings are essentially text. We used a string in our very first cell when we ran `print(\"Hello World!\")`.  `\"Hello World!\"` is a string. You can assign strings to variables and utilize them, just like we did with numbers in the previous section. Here is an example:"
   ]
  },
  {
   "cell_type": "code",
   "execution_count": null,
   "metadata": {
    "colab": {},
    "colab_type": "code",
    "id": "dT2a94G9KPk8"
   },
   "outputs": [],
   "source": [
    "str1 = 'GCGCTCAAT'\n",
    "str2 = 'TACTAGGCA'\n",
    "str3 = 'AATCGCTAG'\n",
    "print(str1, str2, str3)"
   ]
  },
  {
   "cell_type": "markdown",
   "metadata": {
    "colab_type": "text",
    "id": "y4btRsSXNWzb"
   },
   "source": [
    "#### Integers\n",
    "Integers are positive or negative whole numbers with no decimals. We have already used a few in this lesson like our variables `a`, `b`, `c`, `x`, `y`, and `z`."
   ]
  },
  {
   "cell_type": "code",
   "execution_count": null,
   "metadata": {
    "colab": {},
    "colab_type": "code",
    "id": "Sd2NQktfN-Pa"
   },
   "outputs": [],
   "source": [
    "print(a, b, c, x, y, z)"
   ]
  },
  {
   "cell_type": "markdown",
   "metadata": {
    "colab_type": "text",
    "id": "7l9OhHeCOKwj"
   },
   "source": [
    "#### Floats\n",
    "Floats, short for floating point real values, are positive or negative numbers with decimals. You saw some when we did division. Like integers, floats can also be assigned to variables and used to do arithmetic. "
   ]
  },
  {
   "cell_type": "code",
   "execution_count": null,
   "metadata": {
    "colab": {},
    "colab_type": "code",
    "id": "OT1bdd10Owb1"
   },
   "outputs": [],
   "source": [
    "f1 = 4.2\n",
    "f2 = 3.0\n",
    "f3 = -2.1\n",
    "print(f1, f2, f3)\n",
    "print(f1+f3)"
   ]
  },
  {
   "cell_type": "markdown",
   "metadata": {
    "colab_type": "text",
    "id": "L42-ZXlERhZ7"
   },
   "source": [
    "### Comparison operators\n",
    "Comparison operators (>, <, ==, >=, <=) work like you would expect them to in mathematics. Let's try a few comparisons (remember to use print statements to see all of the results).\n",
    "$$ 2>1 $$\n",
    "$$ 4<=2 $$\n",
    "$$ 5==5 $$\n",
    "$$ 6>=6$$\n",
    "$$ 7<3 $$"
   ]
  },
  {
   "cell_type": "code",
   "execution_count": null,
   "metadata": {
    "colab": {},
    "colab_type": "code",
    "id": "52io3zdvSWcr"
   },
   "outputs": [],
   "source": [
    "print(2 > 1.5)\n",
    "print(4 <= 2)\n",
    "print(5 == 5.0)\n",
    "print(6 >= 6)\n",
    "print(7.4 < 3)"
   ]
  },
  {
   "cell_type": "markdown",
   "metadata": {},
   "source": [
    "Each of these comparisons results in a new data type known as a Boolean."
   ]
  },
  {
   "cell_type": "markdown",
   "metadata": {
    "colab_type": "text",
    "id": "bOSayuNbQT5j"
   },
   "source": [
    "#### Booleans\n",
    "\n",
    "Booleans only have two values: either `True` or `False`. They are often used for comparisons, for many different types of data. As with other data types, you can assign Booleans to variables. Here are a few cases where Booleans might be useful. Can you guess the value of each comparison before running the cell?"
   ]
  },
  {
   "cell_type": "code",
   "execution_count": null,
   "metadata": {
    "colab": {},
    "colab_type": "code",
    "id": "YT0PNRinRRmY"
   },
   "outputs": [],
   "source": [
    "comparison1 = 2 > 1.5\n",
    "print(comparison1)\n",
    "comparison2 = 'This is a string' == 'This is a string'\n",
    "print(comparison2)\n",
    "comparison3 = '5' == 5\n",
    "print(comparison3)"
   ]
  },
  {
   "cell_type": "markdown",
   "metadata": {
    "colab_type": "text",
    "id": "QGa5ZQSVGEPB"
   },
   "source": [
    "### Basic functions\n",
    "\n",
    "We've already started using one basic function, `print()`. You may have already figured out what it does, but it prints the information inside the parentheses to the cell output. Since you have already had some practice with that. Let's explore some other basic functions. \n",
    "\n",
    "The function `type()` returns the data type of the argument you pass it. See the example below:"
   ]
  },
  {
   "cell_type": "code",
   "execution_count": null,
   "metadata": {
    "colab": {},
    "colab_type": "code",
    "id": "_o7xVv_kFzle"
   },
   "outputs": [],
   "source": [
    "type(2.1)"
   ]
  },
  {
   "cell_type": "markdown",
   "metadata": {
    "colab_type": "text",
    "id": "HtkhsWOdWzie"
   },
   "source": [
    "Now use `type()` to find the data type of the following objects: `1`, `True`, and `'Hello World!'`."
   ]
  },
  {
   "cell_type": "code",
   "execution_count": null,
   "metadata": {
    "colab": {},
    "colab_type": "code",
    "id": "mk0UzyR0WnK2"
   },
   "outputs": [],
   "source": [
    "type(1)"
   ]
  },
  {
   "cell_type": "code",
   "execution_count": null,
   "metadata": {
    "colab": {},
    "colab_type": "code",
    "id": "CCa1TiLsXMi_"
   },
   "outputs": [],
   "source": [
    "type(True)"
   ]
  },
  {
   "cell_type": "code",
   "execution_count": null,
   "metadata": {
    "colab": {},
    "colab_type": "code",
    "id": "KtBK-TNhXOdr"
   },
   "outputs": [],
   "source": [
    "type('Hello World!')"
   ]
  },
  {
   "cell_type": "markdown",
   "metadata": {
    "colab_type": "text",
    "id": "DAle4CYJXTOd"
   },
   "source": [
    "There are functions that let you specify the data type. `int()`, `float()`, `bool()`, and `str()` let you specify data as an integer, float, boolean, or string. Let's take a look at how this works for the `int()` function. "
   ]
  },
  {
   "cell_type": "code",
   "execution_count": null,
   "metadata": {
    "colab": {},
    "colab_type": "code",
    "id": "HTjA2R-mXQvm"
   },
   "outputs": [],
   "source": [
    "print(int(2.1))\n",
    "print(int(2.8))"
   ]
  },
  {
   "cell_type": "markdown",
   "metadata": {
    "colab_type": "text",
    "id": "e6scyNgZY3-j"
   },
   "source": [
    "Notice that both `2.1` and `2.8` result in `2` when assigned to be integers. This is because the `int()` function does **not** round, it just removes the decimal. \n",
    "\n",
    "You'll get an opportunity to learn how each of these functions work in the Exercises section. "
   ]
  },
  {
   "cell_type": "markdown",
   "metadata": {
    "colab_type": "text",
    "id": "YBvX1CHRZ0Di"
   },
   "source": [
    "### Exercises\n",
    "The following exercise will help you understand the concepts taught in this lesson better. It is only one problem, but covers operators, comparison, data types, and basic functions. "
   ]
  },
  {
   "cell_type": "markdown",
   "metadata": {
    "colab_type": "text",
    "id": "A86KrN-oZ8Iq"
   },
   "source": [
    "Predict the results of the following expressions, and use python the check your answers (know that some of these may result in errors):\n",
    "```\n",
    "1 > 3\n",
    "14 >= 2*7\n",
    "\"1\" > \"3\"\n",
    "bool(10) > 2\n",
    "0 == False\n",
    "0 == str(False)\n",
    "0 == str(int(False))\n",
    "str(0) == 0\n",
    "True == 1**0\n",
    "int(True) == str(1**0)\n",
    "float(\"one\") == 1\n",
    "```"
   ]
  },
  {
   "cell_type": "code",
   "execution_count": null,
   "metadata": {
    "colab": {},
    "colab_type": "code",
    "id": "lW1bG4q8bsZw"
   },
   "outputs": [],
   "source": []
  },
  {
   "cell_type": "markdown",
   "metadata": {},
   "source": [
    "## Scripting vs Jupyter Notebooks"
   ]
  }
 ],
 "metadata": {
  "colab": {
   "collapsed_sections": [],
   "include_colab_link": true,
   "name": "Lesson 1.ipynb",
   "provenance": [],
   "version": "0.3.2"
  },
  "interpreter": {
   "hash": "675aaa5c2d53c1c98c8998aefc901524068103056818b44a52db7ec7d1d658ad"
  },
  "kernelspec": {
   "display_name": "Python 3.10.4 ('ipython')",
   "language": "python",
   "name": "python3"
  },
  "language_info": {
   "codemirror_mode": {
    "name": "ipython",
    "version": 3
   },
   "file_extension": ".py",
   "mimetype": "text/x-python",
   "name": "python",
   "nbconvert_exporter": "python",
   "pygments_lexer": "ipython3",
   "version": "3.10.4"
  }
 },
 "nbformat": 4,
 "nbformat_minor": 1
}
