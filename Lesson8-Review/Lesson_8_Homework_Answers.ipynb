{
 "cells": [
  {
   "cell_type": "code",
   "execution_count": 16,
   "metadata": {},
   "outputs": [],
   "source": [
    "import csv\n",
    "import numpy as np\n",
    "\n",
    "with open('Random2.csv') as file:\n",
    "    reader = csv.reader(file) \n",
    "    \n",
    "    read_list_1st_col = []\n",
    "    read_list_2nd_col = []\n",
    "    read_list_3rd_col = []\n",
    "    read_list_4th_col = []\n",
    "    for row in reader:\n",
    "        read_list_1st_col.append(int(row[0]))\n",
    "        read_list_2nd_col.append(int(row[1]))\n",
    "        read_list_3rd_col.append(int(row[2]))\n",
    "        read_list_4th_col.append(int(row[3]))"
   ]
  },
  {
   "cell_type": "code",
   "execution_count": 17,
   "metadata": {},
   "outputs": [
    {
     "name": "stdout",
     "output_type": "stream",
     "text": [
      "25\n",
      "85\n"
     ]
    }
   ],
   "source": [
    "print(max(read_list_1st_col))\n",
    "print(np.argmax(read_list_1st_col))"
   ]
  },
  {
   "cell_type": "code",
   "execution_count": 25,
   "metadata": {},
   "outputs": [
    {
     "name": "stdout",
     "output_type": "stream",
     "text": [
      "[-25 -24 -24 -23 -23 -23 -23 -22 -21 -20 -20 -18 -18 -16 -16 -16 -16 -16\n",
      " -15 -15 -14 -14 -14 -14 -13 -13 -13 -11 -11 -11 -10 -10 -10  -8  -7  -7\n",
      "  -6  -5  -5  -4  -4  -4  -3  -3  -3  -2  -2  -2  -2  -1  -1   0   2   2\n",
      "   2   4   5   6   6   6   6   6   7   7   7   8  10  11  11  11  12  12\n",
      "  12  13  14  14  15  16  16  16  16  16  17  17  17  18  18  19  19  20\n",
      "  20  22  22  23  24  24  24  25  25  25]\n",
      "-1.0\n"
     ]
    }
   ],
   "source": [
    "print(np.sort(read_list_2nd_col))\n",
    "print(np.median(read_list_2nd_col))"
   ]
  },
  {
   "cell_type": "code",
   "execution_count": 34,
   "metadata": {},
   "outputs": [
    {
     "name": "stdout",
     "output_type": "stream",
     "text": [
      "[12, 8, 11, 3, 21, 1, 25, 22, 15, 8, 14, 19, 16, 10, 24, 2, 10, 5, 25, 16, 16, 18, 22, 15, 14, 19, 10, 11, 23, 6, 14, 12, 3, 1, 2, 23, 13, 13, 23, 24, 19, 8, 21, 14, 18, 5, 8]\n",
      "[-2, -19, -13, -19, -25, -18, -23, -19, -14, -6, -14, -19, -16, -3, -9, -9, -23, -2, -15, -24, -4, -20, -19, -21, -7, -15, -25, -21, -14, -10, -14, -21, -3, -19, -16, -14, -7, -25, -25, -20, -10, -15, -20, -8, -10, -4, -3, -18, -2, -12, -1, -25, -21]\n",
      "-14.358490566037736\n",
      "13.659574468085106\n"
     ]
    }
   ],
   "source": [
    "pos = [i for i in read_list_3rd_col if i > 0]\n",
    "print(pos)\n",
    "neg = [i for i in read_list_3rd_col if i < 0]\n",
    "print(neg)\n",
    "print(np.mean(neg))\n",
    "print(np.mean(pos))"
   ]
  },
  {
   "cell_type": "code",
   "execution_count": 36,
   "metadata": {},
   "outputs": [
    {
     "name": "stdout",
     "output_type": "stream",
     "text": [
      "[23, 11, -19, 9, 7, -9, 11, -5, 19, -21, -19, -7, 23, 7, -1, -5, -17, -17, -9, -7, -23, 5, 11, 19, 23, 15, -25, 23, -7, 9, 11, -25, 15, 11, 3, 1, -25, 21, 15, -19, -19, 23, -7, -9, 13]\n",
      "33\n"
     ]
    }
   ],
   "source": [
    "odd = [i for i in read_list_4th_col if i%2 == 1]\n",
    "print(odd)\n",
    "print(np.sum(odd))"
   ]
  },
  {
   "cell_type": "code",
   "execution_count": 19,
   "metadata": {},
   "outputs": [],
   "source": [
    "def has22(nums):\n",
    "    for i in range(len(nums)-1): \n",
    "        if nums[i] == 2:\n",
    "            if nums[i+1] == 2:\n",
    "                return True\n",
    "\n",
    "    return False\n"
   ]
  },
  {
   "cell_type": "code",
   "execution_count": 20,
   "metadata": {},
   "outputs": [
    {
     "name": "stdout",
     "output_type": "stream",
     "text": [
      "True\n",
      "False\n",
      "False\n",
      "True\n",
      "False\n"
     ]
    }
   ],
   "source": [
    "print(has22([1,2,2,3,4,5]))\n",
    "print(has22([]))\n",
    "print(has22([1,2,1,2,4,5]))\n",
    "print(has22([2,2,2]))\n",
    "print(has22([2]))"
   ]
  },
  {
   "cell_type": "code",
   "execution_count": 21,
   "metadata": {},
   "outputs": [],
   "source": [
    "def repeat2(nums):\n",
    "    maxrep = 0\n",
    "    for i in range(len(nums)): \n",
    "        temp = 0\n",
    "        if nums[i] == 2:\n",
    "            temp = 1\n",
    "        for j in range(i+1,len(nums)):\n",
    "            if nums[j] == 2:\n",
    "                temp += 1\n",
    "            else:\n",
    "                break\n",
    "        if temp > maxrep:\n",
    "            maxrep = temp\n",
    "\n",
    "    return maxrep\n"
   ]
  },
  {
   "cell_type": "code",
   "execution_count": 38,
   "metadata": {},
   "outputs": [
    {
     "name": "stdout",
     "output_type": "stream",
     "text": [
      "2\n",
      "0\n",
      "1\n",
      "3\n",
      "1\n",
      "3\n",
      "7\n"
     ]
    }
   ],
   "source": [
    "print(repeat2([1,2,2,3,4,5]))\n",
    "print(repeat2([]))\n",
    "print(repeat2([1,2,1,2,4,5]))\n",
    "print(repeat2([2,2,2]))\n",
    "print(repeat2([2]))\n",
    "print(repeat2([2,1,2,2,1,2,2,2,1,1,1]))\n",
    "print(repeat2([1, 1, 2, 1, 1, 1, 1, 1, 1, 1, 2, 1,\n",
    "1, 1, 2, 2, 2, 2, 2, 1, 2, 1, 1, 2,\n",
    "2, 2, 2, 2, 2, 2, 1, 1, 2, 1, 2, 1,\n",
    "2, 1, 2, 2, 1, 1, 2, 1, 1, 1, 1, 1,\n",
    "2, 1, 2, 1, 1, 1, 1, 2, 2, 2, 1, 2,\n",
    "1, 2, 2, 2, 2, 1, 1, 2, 2, 1, 1, 1,\n",
    "1, 1, 1, 2, 1, 2, 2, 1, 1, 1, 1, 1,\n",
    "2, 1, 2, 1, 2, 1, 2, 1, 2, 2, 2, 2,\n",
    "1, 2, 1, 2]))"
   ]
  },
  {
   "cell_type": "code",
   "execution_count": null,
   "metadata": {},
   "outputs": [],
   "source": []
  }
 ],
 "metadata": {
  "kernelspec": {
   "display_name": "Python 3",
   "language": "python",
   "name": "python3"
  },
  "language_info": {
   "codemirror_mode": {
    "name": "ipython",
    "version": 3
   },
   "file_extension": ".py",
   "mimetype": "text/x-python",
   "name": "python",
   "nbconvert_exporter": "python",
   "pygments_lexer": "ipython3",
   "version": "3.6.5"
  }
 },
 "nbformat": 4,
 "nbformat_minor": 2
}
