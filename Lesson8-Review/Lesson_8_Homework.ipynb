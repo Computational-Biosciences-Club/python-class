{
 "cells": [
  {
   "cell_type": "markdown",
   "metadata": {},
   "source": [
    "# Open the file we generated in class (Random2.csv) using python. Find the following:\n",
    "## The maximum value and the index of that value (argmax) for the first column.\n",
    "## Create a list of the sorted values and find the median value of the second column.\n",
    "## Create two separate lists for the positive and negative values (exclude 0) and find the mean of each for the third column. \n",
    "## Create a list of the odd values and the sum of the odd values for the fourth column."
   ]
  },
  {
   "cell_type": "markdown",
   "metadata": {},
   "source": [
    "&nbsp;"
   ]
  },
  {
   "cell_type": "markdown",
   "metadata": {},
   "source": [
    "# Create a function has22 that takes a list as a parameter. This function should return True if the list has two sequential 2s and False otherwise. Run the following to test your function, you should get True, False, False, True, False:"
   ]
  },
  {
   "cell_type": "code",
   "execution_count": null,
   "metadata": {},
   "outputs": [],
   "source": [
    "print(has22([1,2,2,3,4,5]))\n",
    "print(has22([]))\n",
    "print(has22([1,2,1,2,4,5]))\n",
    "print(has22([2,2,2]))\n",
    "print(has22([2]))"
   ]
  },
  {
   "cell_type": "markdown",
   "metadata": {},
   "source": [
    "&nbsp;"
   ]
  },
  {
   "cell_type": "markdown",
   "metadata": {},
   "source": [
    "# Challenge Question: Create a function repeat2 that takes a list as a parameter. This function should return the maximum number of 2s repeated in sequence. Run the following to test your function, you should get 2, 0, 1, 3, 1, 3, 7:"
   ]
  },
  {
   "cell_type": "code",
   "execution_count": null,
   "metadata": {},
   "outputs": [],
   "source": [
    "print(repeat2([1,2,2,3,4,5]))\n",
    "print(repeat2([]))\n",
    "print(repeat2([1,2,1,2,4,5]))\n",
    "print(repeat2([2,2,2]))\n",
    "print(repeat2([2]))\n",
    "print(repeat2([2,1,2,2,1,2,2,2,1,1,1]))\n",
    "print(repeat2([1, 1, 2, 1, 1, 1, 1, 1, 1, 1, 2, 1,\n",
    "1, 1, 2, 2, 2, 2, 2, 1, 2, 1, 1, 2,\n",
    "2, 2, 2, 2, 2, 2, 1, 1, 2, 1, 2, 1,\n",
    "2, 1, 2, 2, 1, 1, 2, 1, 1, 1, 1, 1,\n",
    "2, 1, 2, 1, 1, 1, 1, 2, 2, 2, 1, 2,\n",
    "1, 2, 2, 2, 2, 1, 1, 2, 2, 1, 1, 1,\n",
    "1, 1, 1, 2, 1, 2, 2, 1, 1, 1, 1, 1,\n",
    "2, 1, 2, 1, 2, 1, 2, 1, 2, 2, 2, 2,\n",
    "1, 2, 1, 2]))"
   ]
  }
 ],
 "metadata": {
  "kernelspec": {
   "display_name": "Python 3",
   "language": "python",
   "name": "python3"
  },
  "language_info": {
   "codemirror_mode": {
    "name": "ipython",
    "version": 3
   },
   "file_extension": ".py",
   "mimetype": "text/x-python",
   "name": "python",
   "nbconvert_exporter": "python",
   "pygments_lexer": "ipython3",
   "version": "3.6.5"
  }
 },
 "nbformat": 4,
 "nbformat_minor": 2
}
