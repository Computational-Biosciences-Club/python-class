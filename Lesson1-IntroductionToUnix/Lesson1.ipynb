{
 "cells": [
  {
   "cell_type": "markdown",
   "metadata": {},
   "source": [
    "### How to Learn To Code \n",
    "- - -\n",
    "# **Introduction to Unix and Python**\n",
    "\n",
    "In this lesson, we will learn the basics of navigating your computer's file system through the command-line interface and introduce the python terminal. \n",
    "* * *\n",
    "\n",
    "## Learning objectives\n",
    "1. Command-line Basics\n",
    "2. Navigating your file system\n",
    "3. Basic calculator functions in the python terminal"
   ]
  },
  {
   "cell_type": "markdown",
   "metadata": {
    "collapsed": true
   },
   "source": [
    "## Opening the Command-line Interface \n",
    "___\n",
    "#### Windows\n",
    "\n",
    "Start menu -> Windows System -> Command Prompt\n",
    "\n",
    "(Windows Key + R), \"cmd\"\n",
    "\n",
    "#### Mac\n",
    "\n",
    "Applications -> Utilites -> Terminal\n",
    "\n",
    "#### Linux\n",
    "\n",
    "Depends on distro: Find the terminal\n",
    "\n",
    "CTRL + ALT + T"
   ]
  },
  {
   "cell_type": "markdown",
   "metadata": {
    "collapsed": true
   },
   "source": [
    "## Prompt\n",
    "___\n",
    "#### Windows\n",
    "\n",
    "``` > ```\n",
    "\n",
    "#### Mac & Linux\n",
    "\n",
    "``` $ ```"
   ]
  },
  {
   "cell_type": "markdown",
   "metadata": {
    "collapsed": true
   },
   "source": [
    "## Basics\n",
    "___\n"
   ]
  },
  {
   "cell_type": "markdown",
   "metadata": {
    "collapsed": true
   },
   "source": [
    "### Current Directory\n",
    "\n",
    "#### Windows\n",
    "\n",
    "``` > cd ```\n",
    "\n",
    "#### Mac & Linux\n",
    "\n",
    "``` $ pwd ```"
   ]
  },
  {
   "cell_type": "markdown",
   "metadata": {
    "collapsed": true
   },
   "source": [
    "### List files and directories\n",
    "\n",
    "#### Windows\n",
    "\n",
    "``` > dir ```\n",
    "\n",
    "#### Mac & Linux\n",
    "\n",
    "``` $ ls ```"
   ]
  },
  {
   "cell_type": "markdown",
   "metadata": {
    "collapsed": true
   },
   "source": [
    "### Change current directory\n",
    "\n",
    "#### Windows\n",
    "\n",
    "``` > cd Desktop ```\n",
    "\n",
    "#### Mac & Linux\n",
    "\n",
    "``` $ cd Desktop ```"
   ]
  },
  {
   "cell_type": "markdown",
   "metadata": {
    "collapsed": true
   },
   "source": [
    "### Create directory\n",
    "\n",
    "#### Windows\n",
    "\n",
    "``` > mkdir practice ```\n",
    "\n",
    "#### Mac & Linux\n",
    "\n",
    "``` $ mkdir practice ```\n",
    "\n",
    "\n",
    "Directory names can only use letters/numbers and *should* be one word.  However, it is possible to add spaces by using a backslash on unix systems or by enclosing the name in quotations on windows."
   ]
  },
  {
   "cell_type": "markdown",
   "metadata": {
    "collapsed": true
   },
   "source": [
    "## Exercise\n",
    "___\n",
    "\n",
    "In the directory `practice`, create a folder called `test`"
   ]
  },
  {
   "cell_type": "markdown",
   "metadata": {
    "collapsed": true
   },
   "source": [
    "#### Windows\n",
    "\n",
    "```\n",
    "> cd practice\n",
    "> mkdir test\n",
    "> dir\n",
    "```\n",
    "\n",
    "#### Mac & Linux\n",
    "\n",
    "```\n",
    "$ cd practice\n",
    "$ mkdir test\n",
    "$ ls\n",
    "```"
   ]
  },
  {
   "cell_type": "markdown",
   "metadata": {
    "collapsed": true
   },
   "source": [
    "## Clean up\n",
    "___\n",
    "\n",
    "#### Windows\n",
    "\n",
    "```> cd .. ```\n",
    "\n",
    "```> pwd ```\n",
    "\n",
    "#### Mac & Linux\n",
    "\n",
    "```$ cd .. ```\n",
    "\n",
    "```$ ls ```"
   ]
  },
  {
   "cell_type": "markdown",
   "metadata": {
    "collapsed": true
   },
   "source": [
    "### Delete Directory\n",
    "Deleting files using `del`, `rmdir`, or `rm` are irrecoverable, meaning the deleted files will be gone forever! Be careful!\n",
    "\n",
    "#### Windows\n",
    "\n",
    "```> rmdir /S practice ```\n",
    "\n",
    "#### Mac & Linux\n",
    "\n",
    "``` $ rm -r practice ```"
   ]
  },
  {
   "cell_type": "markdown",
   "metadata": {
    "collapsed": true
   },
   "source": [
    "### Exit\n",
    "\n",
    "#### Windows\n",
    "\n",
    "```> exit```\n",
    "\n",
    "#### Mac & Linux\n",
    "\n",
    "``` $ exit```"
   ]
  },
  {
   "cell_type": "markdown",
   "metadata": {},
   "source": [
    "## Summary\n",
    "\n"
   ]
  },
  {
   "cell_type": "markdown",
   "metadata": {},
   "source": [
    "| Command (windows)       | Command (mac/linux)   | Description  | Example |\n",
    "| ------------- |:-------------:| -----:| --------------: | \n",
    "| exit | exit | close the window | exit |\n",
    "| cd | cd | change directory | cd test |\n",
    "| cd | pwd | show current directory | cd or pwd |\n",
    "| dir | ls | list directories/files | ls or dir |\n",
    "| copy | cp | copy file | copy test.txt new.txt|\n",
    "| move | mv | move file | mv test.txt practice/ |\n",
    "| mkdir  | mkdir | create new directory | mkdir testdirectory |\n",
    "| rmdir (or del) | rm | delete a file | rm test.txt |\n",
    "| rmdir | rm -r | delete a directory | rm -r testdirectory |\n"
   ]
  },
  {
   "cell_type": "markdown",
   "metadata": {},
   "source": [
    "## The Python Terminal \n",
    "___\n",
    "\n",
    "type `python` into the command-line\n",
    "\n",
    "```\n",
    "$ python\n",
    "Python 3.6.4 |Anaconda custom (64-bit)| (default, Jan 16 2018, 18:10:19) \n",
    "[GCC 7.2.0] on linux\n",
    "Type \"help\", \"copyright\", \"credits\" or \"license\" for more information.\n",
    ">>> \n",
    "```\n",
    "Check that your version is `Python 3.6.*` "
   ]
  },
  {
   "cell_type": "markdown",
   "metadata": {},
   "source": [
    "### Basic Calculator Functions\n",
    "___\n",
    "```\n",
    ">>> 2+3\n",
    "5\n",
    ">>> 2-3\n",
    "-1\n",
    ">>> 2*3\n",
    "6\n",
    ">>> 2/3\n",
    "0.6666666666666666\n",
    "```\n",
    "\n",
    "If 2/3 = 0 on your screen, then you are using Python 2.\n",
    "___\n",
    "\n",
    "Common python math pitfall:\n",
    "```\n",
    ">>> 2^3\n",
    "1\n",
    ">>> 2**3\n",
    "8\n",
    "```\n",
    "Exponentiation is done using `**` **not** `^`.\n",
    "\n",
    "`^` is the symbol for a **bitwise exclusive or**.  You do not need to worry about bitwise operators.\n",
    "___\n",
    "\n",
    "Finally, let's print something \n",
    "```\n",
    ">>> print(\"Hello World!\")\n",
    "Hello World!\n",
    "```"
   ]
  }
 ],
 "metadata": {
  "anaconda-cloud": {},
  "kernelspec": {
   "display_name": "Python 3",
   "language": "python",
   "name": "python3"
  },
  "language_info": {
   "codemirror_mode": {
    "name": "ipython",
    "version": 3
   },
   "file_extension": ".py",
   "mimetype": "text/x-python",
   "name": "python",
   "nbconvert_exporter": "python",
   "pygments_lexer": "ipython3",
   "version": "3.6.4"
  },
  "toc": {
   "colors": {
    "hover_highlight": "#DAA520",
    "navigate_num": "#000000",
    "navigate_text": "#333333",
    "running_highlight": "#FF0000",
    "selected_highlight": "#FFD700",
    "sidebar_border": "#EEEEEE",
    "wrapper_background": "#FFFFFF"
   },
   "moveMenuLeft": true,
   "nav_menu": {
    "height": "104px",
    "width": "251px"
   },
   "navigate_menu": true,
   "number_sections": true,
   "sideBar": true,
   "threshold": 4,
   "toc_cell": false,
   "toc_section_display": "block",
   "toc_window_display": false,
   "widenNotebook": false
  }
 },
 "nbformat": 4,
 "nbformat_minor": 1
}
