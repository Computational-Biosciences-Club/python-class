{
 "cells": [
  {
   "cell_type": "markdown",
   "metadata": {},
   "source": [
    "### How to Learn To Code \n",
    "- - -\n",
    "# **Conditionals**\n",
    "##### July 11, 2017\n",
    "* * *"
   ]
  },
  {
   "cell_type": "markdown",
   "metadata": {},
   "source": [
    "## Conditionals\n",
    "\n",
    "#### Booleans: True/False"
   ]
  },
  {
   "cell_type": "code",
   "execution_count": 2,
   "metadata": {},
   "outputs": [
    {
     "name": "stdout",
     "output_type": "stream",
     "text": [
      "False\n",
      "False\n",
      "True\n"
     ]
    }
   ],
   "source": [
    "print(3 == 5)\n",
    "print(3 > 5)\n",
    "print(3 <= 5)"
   ]
  },
  {
   "cell_type": "markdown",
   "metadata": {},
   "source": [
    "Basic conditional operators are:\n",
    "- ==\n",
    "- <\n",
    "- <=\n",
    "- >\n",
    "- \\>=\n",
    "- !=\n",
    "- in\n",
    "- is"
   ]
  },
  {
   "cell_type": "code",
   "execution_count": 7,
   "metadata": {},
   "outputs": [
    {
     "name": "stdout",
     "output_type": "stream",
     "text": [
      "False\n"
     ]
    }
   ],
   "source": [
    "print(len('ATGC') > 5)"
   ]
  },
  {
   "cell_type": "code",
   "execution_count": 4,
   "metadata": {},
   "outputs": [
    {
     "name": "stdout",
     "output_type": "stream",
     "text": [
      "True\n"
     ]
    }
   ],
   "source": [
    "print('GAATTC'.count('T') > 1)"
   ]
  },
  {
   "cell_type": "code",
   "execution_count": 5,
   "metadata": {},
   "outputs": [
    {
     "name": "stdout",
     "output_type": "stream",
     "text": [
      "True\n"
     ]
    }
   ],
   "source": [
    "print('ATGCTT'.isupper())"
   ]
  },
  {
   "cell_type": "code",
   "execution_count": 6,
   "metadata": {},
   "outputs": [
    {
     "name": "stdout",
     "output_type": "stream",
     "text": [
      "False\n"
     ]
    }
   ],
   "source": [
    "print('ATGCTT'.islower())"
   ]
  },
  {
   "cell_type": "code",
   "execution_count": 8,
   "metadata": {},
   "outputs": [
    {
     "name": "stdout",
     "output_type": "stream",
     "text": [
      "True\n"
     ]
    }
   ],
   "source": [
    "print('V' in ['W', 'V', 'L'])"
   ]
  },
  {
   "cell_type": "markdown",
   "metadata": {},
   "source": [
    "True and False are special reserved values in Python (note the syntax highlighting) "
   ]
  },
  {
   "cell_type": "markdown",
   "metadata": {},
   "source": [
    "## If statements"
   ]
  },
  {
   "cell_type": "code",
   "execution_count": 13,
   "metadata": {},
   "outputs": [
    {
     "name": "stdout",
     "output_type": "stream",
     "text": [
      "Good job!\n"
     ]
    }
   ],
   "source": [
    "my_grade = 98\n",
    "if my_grade > 95:\n",
    "    print('Good job!')"
   ]
  },
  {
   "cell_type": "code",
   "execution_count": 20,
   "metadata": {},
   "outputs": [
    {
     "name": "stdout",
     "output_type": "stream",
     "text": [
      "Pass!\n"
     ]
    }
   ],
   "source": [
    "my_grade = 78\n",
    "if my_grade > 95:\n",
    "    print('High Pass!')\n",
    "if my_grade > 70:\n",
    "    print('Pass!')\n",
    "if my_grade < 70:\n",
    "    print('FAILED.')"
   ]
  },
  {
   "cell_type": "code",
   "execution_count": 22,
   "metadata": {},
   "outputs": [
    {
     "name": "stdout",
     "output_type": "stream",
     "text": [
      "High Pass!\n",
      "Pass!\n"
     ]
    }
   ],
   "source": [
    "my_grade = 99\n",
    "if my_grade > 95:\n",
    "    print('High Pass!')\n",
    "if my_grade > 70:\n",
    "    print('Pass!')\n",
    "if my_grade < 70:\n",
    "    print('FAILED.')"
   ]
  },
  {
   "cell_type": "code",
   "execution_count": 29,
   "metadata": {},
   "outputs": [
    {
     "name": "stdout",
     "output_type": "stream",
     "text": [
      "There is a uracil in the sequence.\n",
      "This sequence is from RNA.\n"
     ]
    }
   ],
   "source": [
    "sequence = 'GGCAACUAGCCGAUC'\n",
    "if 'U' in sequence:\n",
    "    print('There is a uracil in the sequence.')\n",
    "    print('This sequence is from RNA.')"
   ]
  },
  {
   "cell_type": "markdown",
   "metadata": {},
   "source": [
    "## Conditionals with Loops"
   ]
  },
  {
   "cell_type": "code",
   "execution_count": 32,
   "metadata": {},
   "outputs": [
    {
     "name": "stdout",
     "output_type": "stream",
     "text": [
      "BCL2\n",
      "BRAF\n"
     ]
    }
   ],
   "source": [
    "gene_list = ['ABL1','AKT2','BCL2','BRAF','EGFR','KRAS','MAFB','MYC','TET2']\n",
    "\n",
    "for gene in gene_list:\n",
    "    if gene[0] == 'B':\n",
    "        print(gene)"
   ]
  },
  {
   "cell_type": "markdown",
   "metadata": {},
   "source": [
    "## Else statement"
   ]
  },
  {
   "cell_type": "code",
   "execution_count": 38,
   "metadata": {},
   "outputs": [
    {
     "name": "stdout",
     "output_type": "stream",
     "text": [
      "Skip\n",
      "Skip\n",
      "BCL2 starts with B\n",
      "BRAF starts with B\n",
      "Skip\n",
      "Skip\n",
      "Skip\n",
      "Skip\n",
      "Skip\n"
     ]
    }
   ],
   "source": [
    "gene_list = ['ABL1','AKT2','BCL2','BRAF','EGFR','KRAS','MAFB','MYC','TET2']\n",
    "\n",
    "for gene in gene_list:\n",
    "    if gene[0] == 'B':\n",
    "        print(gene + ' starts with B')\n",
    "    else:\n",
    "        print('Skip')"
   ]
  },
  {
   "cell_type": "markdown",
   "metadata": {},
   "source": [
    "## Elif statement"
   ]
  },
  {
   "cell_type": "code",
   "execution_count": 35,
   "metadata": {},
   "outputs": [
    {
     "name": "stdout",
     "output_type": "stream",
     "text": [
      "ABL1 starts with A\n",
      "AKT2 starts with A\n",
      "BCL2 starts with B\n",
      "BRAF starts with B\n",
      "Skip\n",
      "Skip\n",
      "Skip\n",
      "Skip\n",
      "Skip\n"
     ]
    }
   ],
   "source": [
    "gene_list = ['ABL1','AKT2','BCL2','BRAF','EGFR','KRAS','MAFB','MYC','TET2']\n",
    "\n",
    "for gene in gene_list:\n",
    "    if gene[0] == 'B':\n",
    "        print(gene + ' starts with B')\n",
    "    elif gene[0] == 'A':\n",
    "        print(gene + ' starts with A')\n",
    "    else:\n",
    "        print('Skip')"
   ]
  },
  {
   "cell_type": "markdown",
   "metadata": {},
   "source": [
    "## Multiple conditions"
   ]
  },
  {
   "cell_type": "markdown",
   "metadata": {},
   "source": [
    "#### Basic Boolean Algebra\n",
    "\n",
    "- and\n",
    "- or\n",
    "- not"
   ]
  },
  {
   "cell_type": "code",
   "execution_count": null,
   "metadata": {},
   "outputs": [],
   "source": [
    "sequence = 'CAGGCGGCGCTATCTCGAGCTTACG'\n",
    "if 'U' in sequence and sequence < 25:\n",
    "    print('Sequence is a short RNA')"
   ]
  },
  {
   "cell_type": "code",
   "execution_count": null,
   "metadata": {},
   "outputs": [],
   "source": [
    "gene_list = ['ABL1','AKT2','BCL2','BRAF','EGFR','KRAS','MAFB','MYC','TET2']\n",
    "\n",
    "for gene in gene_list:\n",
    "    if gene[0] == '':\n",
    "        print(gene + ' starts with B')"
   ]
  },
  {
   "cell_type": "markdown",
   "metadata": {},
   "source": [
    "## While Loop"
   ]
  },
  {
   "cell_type": "code",
   "execution_count": 39,
   "metadata": {},
   "outputs": [
    {
     "name": "stdout",
     "output_type": "stream",
     "text": [
      "0\n",
      "1\n",
      "2\n",
      "3\n",
      "4\n",
      "5\n",
      "6\n",
      "7\n",
      "8\n",
      "9\n"
     ]
    }
   ],
   "source": [
    "count = 0\n",
    "while count < 10:\n",
    "    print(count)\n",
    "    count = count + 1"
   ]
  }
 ],
 "metadata": {
  "kernelspec": {
   "display_name": "Python 3",
   "language": "python",
   "name": "python3"
  },
  "language_info": {
   "codemirror_mode": {
    "name": "ipython",
    "version": 3
   },
   "file_extension": ".py",
   "mimetype": "text/x-python",
   "name": "python",
   "nbconvert_exporter": "python",
   "pygments_lexer": "ipython3",
   "version": "3.6.4"
  }
 },
 "nbformat": 4,
 "nbformat_minor": 2
}
