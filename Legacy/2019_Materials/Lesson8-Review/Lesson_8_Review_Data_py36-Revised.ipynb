{
 "cells": [
  {
   "cell_type": "markdown",
   "metadata": {},
   "source": [
    "# Lesson 8:  Review of previous topics using numerical data \n",
    "- Here we will introduce numpy before reviewing functions, conditionals, and loops through writing and reading csv files. We will also introduce/review casting.\n",
    "\n",
    "## Learning objectives \n",
    "1. Introduce numpy, learn about various functions included.\n",
    "2. Review functions, conditionals, loops, and file input/output through writing and reading csv files.\n",
    "3. Introduce/review variable types and casting.\n"
   ]
  },
  {
   "cell_type": "markdown",
   "metadata": {},
   "source": [
    "# First, let's introduce numpy:\n",
    "- Create a test list\n",
    "- Some functions are built into python, such as max()\n",
    "    - Others are not, but many of these can be accessed using numpy\n",
    "        - For example, argmax() returns the index of the max value\n",
    "        - sort() will sort a list from the min to the max value \n",
    "        - Mathematical functions including logarithmic/exponential, trigonometric, etc. also available\n",
    "\n",
    "- Resource: https://docs.scipy.org/doc/numpy-1.13.0/reference/index.html"
   ]
  },
  {
   "cell_type": "code",
   "execution_count": 3,
   "metadata": {},
   "outputs": [
    {
     "name": "stdout",
     "output_type": "stream",
     "text": [
      "10\n",
      "4\n",
      "[ 1  2  2  3  4  4  5  6  8 10]\n"
     ]
    }
   ],
   "source": [
    "import numpy as np\n",
    "\n",
    "test_list = [2,4,6,8,10,1,2,3,4,5]\n",
    "\n",
    "print(max(test_list))\n",
    "\n",
    "print(np.argmax(test_list))\n",
    "\n",
    "print(np.sort(test_list))"
   ]
  },
  {
   "cell_type": "markdown",
   "metadata": {},
   "source": [
    "# Random values\n",
    "- Can generate random values\n",
    "- Can use seeds to always generate the same random numbers "
   ]
  },
  {
   "cell_type": "code",
   "execution_count": 4,
   "metadata": {},
   "outputs": [
    {
     "name": "stdout",
     "output_type": "stream",
     "text": [
      "556\n"
     ]
    }
   ],
   "source": [
    "print(np.random.randint(1,1000))"
   ]
  },
  {
   "cell_type": "code",
   "execution_count": 5,
   "metadata": {},
   "outputs": [
    {
     "name": "stdout",
     "output_type": "stream",
     "text": [
      "356\n"
     ]
    }
   ],
   "source": [
    "np.random.seed(20)\n",
    "print(np.random.randint(1,1000))"
   ]
  },
  {
   "cell_type": "code",
   "execution_count": 6,
   "metadata": {},
   "outputs": [
    {
     "name": "stdout",
     "output_type": "stream",
     "text": [
      "356\n"
     ]
    }
   ],
   "source": [
    "np.random.seed(20)\n",
    "print(np.random.randint(1,1000))"
   ]
  },
  {
   "cell_type": "markdown",
   "metadata": {},
   "source": [
    "# Let's review functions and create a list of 100 values randomly generated between -25 and 25"
   ]
  },
  {
   "cell_type": "code",
   "execution_count": 7,
   "metadata": {},
   "outputs": [],
   "source": [
    "def random_list():\n",
    "    r_list = []\n",
    "    for i in range(0,100):\n",
    "        rval = np.random.randint(-25,26)\n",
    "        r_list.append(rval)\n",
    "    return(r_list)"
   ]
  },
  {
   "cell_type": "code",
   "execution_count": 8,
   "metadata": {},
   "outputs": [
    {
     "name": "stdout",
     "output_type": "stream",
     "text": [
      "[1, -10, 6, 3, 1, -16, -5, -14, -3, -18, 9, 7, 15, -4, 1, 1, -6, -9, 13, 13, -9, 16, 12, -18, 12, 9, -19, 1, -12, -14, 0, -22, -15, -14, -12, -6, 5, 21, 7, -15, 18, -19, -14, -7, -22, -12, -8, 18, -9, -7, -10, 1, -18, -14, 4, 20, -19, -11, -1, -7, 4, 8, -11, 17, 5, -22, -7, -19, 16, -3, -11, -21, 2, -14, -17, -19, 1, -10, -7, -11, -15, 17, 8, -4, 25, -8, 15, -7, 17, -5, 5, 11, -17, 23, -6, 23, 6, -15, 13, -16]\n",
      "[-2, 7, -13, -11, 6, -8, -16, 2, 13, 17, 14, 16, -2, -16, -11, 6, -10, 2, 25, 19, -15, 25, 24, 19, -20, -23, -2, 6, 12, 0, 16, -16, -23, -10, -24, 5, -1, 24, 23, 15, -14, -20, -25, -3, 12, -21, 18, -7, -16, -11, 12, 10, -14, 16, -2, 4, 8, -23, -6, -3, 20, -4, -5, -5, 24, 20, -1, -14, -24, 16, -7, 11, -13, 11, 16, -15, 7, 6, 22, -4, 6, 22, 17, 11, -22, -13, 17, -23, 14, 7, 18, -3, -10, 25, -18, -14, -4, 2, -18, -2]\n"
     ]
    }
   ],
   "source": [
    "print(random_list())\n",
    "print(random_list())"
   ]
  },
  {
   "cell_type": "markdown",
   "metadata": {},
   "source": [
    "# Now, we will write our random list as a row in a csv\n",
    "- Note the with statement - this is an easier way to open up a file and will automatically close the file when done\n",
    "- Next we will read our list from the csv that we created "
   ]
  },
  {
   "cell_type": "code",
   "execution_count": 9,
   "metadata": {},
   "outputs": [],
   "source": [
    "np.random.seed(20)\n",
    "rand_list = random_list()\n",
    "\n",
    "with open('RandomTest.csv', 'w') as file:\n",
    "    for row in rand_list:\n",
    "        file.write(str(row)+',')\n"
   ]
  },
  {
   "cell_type": "code",
   "execution_count": 10,
   "metadata": {},
   "outputs": [],
   "source": [
    "with open('RandomTest.csv') as file:\n",
    "    \n",
    "    lines = file.readlines()\n",
    "    \n",
    "    read_list = []\n",
    "    for row in lines:\n",
    "        read_list.append(row)"
   ]
  },
  {
   "cell_type": "code",
   "execution_count": 11,
   "metadata": {},
   "outputs": [
    {
     "name": "stdout",
     "output_type": "stream",
     "text": [
      "[10, 1, -10, 6, 3, 1, -16, -5, -14, -3, -18, 9, 7, 15, -4, 1, 1, -6, -9, 13, 13, -9, 16, 12, -18, 12, 9, -19, 1, -12, -14, 0, -22, -15, -14, -12, -6, 5, 21, 7, -15, 18, -19, -14, -7, -22, -12, -8, 18, -9, -7, -10, 1, -18, -14, 4, 20, -19, -11, -1, -7, 4, 8, -11, 17, 5, -22, -7, -19, 16, -3, -11, -21, 2, -14, -17, -19, 1, -10, -7, -11, -15, 17, 8, -4, 25, -8, 15, -7, 17, -5, 5, 11, -17, 23, -6, 23, 6, -15, 13]\n",
      "['10,1,-10,6,3,1,-16,-5,-14,-3,-18,9,7,15,-4,1,1,-6,-9,13,13,-9,16,12,-18,12,9,-19,1,-12,-14,0,-22,-15,-14,-12,-6,5,21,7,-15,18,-19,-14,-7,-22,-12,-8,18,-9,-7,-10,1,-18,-14,4,20,-19,-11,-1,-7,4,8,-11,17,5,-22,-7,-19,16,-3,-11,-21,2,-14,-17,-19,1,-10,-7,-11,-15,17,8,-4,25,-8,15,-7,17,-5,5,11,-17,23,-6,23,6,-15,13,']\n"
     ]
    }
   ],
   "source": [
    "print(rand_list)\n",
    "print(read_list)"
   ]
  },
  {
   "cell_type": "code",
   "execution_count": 48,
   "metadata": {},
   "outputs": [
    {
     "name": "stdout",
     "output_type": "stream",
     "text": [
      "<class 'int'>\n",
      "<class 'str'>\n"
     ]
    }
   ],
   "source": [
    "print(type(rand_list[0]))\n",
    "print(type(read_list[0]))"
   ]
  },
  {
   "cell_type": "markdown",
   "metadata": {},
   "source": [
    "# When we read from the csv, we get strings of the values instead of integers. Let's introduce/review casting to fix this problem\n",
    "- Variable types include strings, integers, and floats\n",
    "- If able, can cast from one variable to another"
   ]
  },
  {
   "cell_type": "code",
   "execution_count": 177,
   "metadata": {},
   "outputs": [
    {
     "name": "stdout",
     "output_type": "stream",
     "text": [
      "<class 'str'>\n",
      "<class 'str'>\n",
      "<class 'float'>\n",
      "<class 'int'>\n"
     ]
    }
   ],
   "source": [
    "var1 = 'Hello'\n",
    "var2 = '15'\n",
    "var3 = 10.2\n",
    "var4 = 27\n",
    "print(type(var1))\n",
    "print(type(var2))\n",
    "print(type(var3))\n",
    "print(type(var4))"
   ]
  },
  {
   "cell_type": "code",
   "execution_count": 178,
   "metadata": {},
   "outputs": [
    {
     "name": "stdout",
     "output_type": "stream",
     "text": [
      "15\n",
      "<class 'int'>\n"
     ]
    }
   ],
   "source": [
    "var5 = int(var2)\n",
    "print(var5)\n",
    "print(type(var5))"
   ]
  },
  {
   "cell_type": "markdown",
   "metadata": {},
   "source": [
    "# Let's use casting to fix the list of values that we read in from our csv.\n",
    "   - Let's also find the maximum value, the index of that value, and sort our list"
   ]
  },
  {
   "cell_type": "code",
   "execution_count": 13,
   "metadata": {},
   "outputs": [
    {
     "name": "stdout",
     "output_type": "stream",
     "text": [
      "10,1,-10,6,3,1,-16,-5,-14,-3,-18,9,7,15,-4,1,1,-6,-9,13,13,-9,16,12,-18,12,9,-19,1,-12,-14,0,-22,-15,-14,-12,-6,5,21,7,-15,18,-19,-14,-7,-22,-12,-8,18,-9,-7,-10,1,-18,-14,4,20,-19,-11,-1,-7,4,8,-11,17,5,-22,-7,-19,16,-3,-11,-21,2,-14,-17,-19,1,-10,-7,-11,-15,17,8,-4,25,-8,15,-7,17,-5,5,11,-17,23,-6,23,6,-15,13\n",
      "['10', '1', '-10', '6', '3', '1', '-16', '-5', '-14', '-3', '-18', '9', '7', '15', '-4', '1', '1', '-6', '-9', '13', '13', '-9', '16', '12', '-18', '12', '9', '-19', '1', '-12', '-14', '0', '-22', '-15', '-14', '-12', '-6', '5', '21', '7', '-15', '18', '-19', '-14', '-7', '-22', '-12', '-8', '18', '-9', '-7', '-10', '1', '-18', '-14', '4', '20', '-19', '-11', '-1', '-7', '4', '8', '-11', '17', '5', '-22', '-7', '-19', '16', '-3', '-11', '-21', '2', '-14', '-17', '-19', '1', '-10', '-7', '-11', '-15', '17', '8', '-4', '25', '-8', '15', '-7', '17', '-5', '5', '11', '-17', '23', '-6', '23', '6', '-15', '13']\n",
      "[10, 1, -10, 6, 3, 1, -16, -5, -14, -3, -18, 9, 7, 15, -4, 1, 1, -6, -9, 13, 13, -9, 16, 12, -18, 12, 9, -19, 1, -12, -14, 0, -22, -15, -14, -12, -6, 5, 21, 7, -15, 18, -19, -14, -7, -22, -12, -8, 18, -9, -7, -10, 1, -18, -14, 4, 20, -19, -11, -1, -7, 4, 8, -11, 17, 5, -22, -7, -19, 16, -3, -11, -21, 2, -14, -17, -19, 1, -10, -7, -11, -15, 17, 8, -4, 25, -8, 15, -7, 17, -5, 5, 11, -17, 23, -6, 23, 6, -15, 13]\n"
     ]
    }
   ],
   "source": [
    "\n",
    "read_list = read_list[0].strip(',')\n",
    "print(read_list)\n",
    "read_list = read_list.split(',')\n",
    "print(read_list)\n",
    "\n",
    "for i in range(len(read_list)):\n",
    "    read_list[i] = int(read_list[i])\n",
    "    \n",
    "\n",
    "\n",
    "\n",
    "print(read_list)"
   ]
  },
  {
   "cell_type": "code",
   "execution_count": 180,
   "metadata": {},
   "outputs": [
    {
     "name": "stdout",
     "output_type": "stream",
     "text": [
      "25\n",
      "85\n",
      "[-22 -22 -22 -21 -19 -19 -19 -19 -19 -18 -18 -18 -17 -17 -16 -15 -15 -15\n",
      " -15 -14 -14 -14 -14 -14 -14 -12 -12 -12 -11 -11 -11 -11 -10 -10 -10  -9\n",
      "  -9  -9  -8  -8  -7  -7  -7  -7  -7  -7  -6  -6  -6  -5  -5  -4  -4  -3\n",
      "  -3  -1   0   1   1   1   1   1   1   1   2   3   4   4   5   5   5   6\n",
      "   6   7   7   8   8   9   9  10  11  12  12  13  13  13  15  15  16  16\n",
      "  17  17  17  18  18  20  21  23  23  25]\n"
     ]
    }
   ],
   "source": [
    "print(max(read_list))\n",
    "print(np.argmax(read_list))\n",
    "print(np.sort(read_list))"
   ]
  },
  {
   "cell_type": "markdown",
   "metadata": {},
   "source": [
    "# Now let's create a csv to be used for the homework\n",
    "- Set the seed so that we all have the same csv"
   ]
  },
  {
   "cell_type": "code",
   "execution_count": 32,
   "metadata": {},
   "outputs": [],
   "source": [
    "np.random.seed(20)\n",
    "rand_list1 = random_list()\n",
    "rand_list2 = random_list()\n",
    "rand_list3 = random_list()\n",
    "rand_list4 = random_list()\n",
    "rand_lists = [rand_list1, rand_list2, rand_list3, rand_list4]\n",
    "\n",
    "with open('Random2.csv', 'w') as file:\n",
    "    \n",
    "    for row in rand_lists:\n",
    "        for val in row:\n",
    "            file.write(str(val)+',')\n",
    "        file.write('\\n')"
   ]
  },
  {
   "cell_type": "code",
   "execution_count": 46,
   "metadata": {},
   "outputs": [
    {
     "name": "stdout",
     "output_type": "stream",
     "text": [
      "[10, 1, -10, 6, 3, 1, -16, -5, -14, -3, -18, 9, 7, 15, -4, 1, 1, -6, -9, 13, 13, -9, 16, 12, -18, 12, 9, -19, 1, -12, -14, 0, -22, -15, -14, -12, -6, 5, 21, 7, -15, 18, -19, -14, -7, -22, -12, -8, 18, -9, -7, -10, 1, -18, -14, 4, 20, -19, -11, -1, -7, 4, 8, -11, 17, 5, -22, -7, -19, 16, -3, -11, -21, 2, -14, -17, -19, 1, -10, -7, -11, -15, 17, 8, -4, 25, -8, 15, -7, 17, -5, 5, 11, -17, 23, -6, 23, 6, -15, 13]\n",
      "[-16, -2, 7, -13, -11, 6, -8, -16, 2, 13, 17, 14, 16, -2, -16, -11, 6, -10, 2, 25, 19, -15, 25, 24, 19, -20, -23, -2, 6, 12, 0, 16, -16, -23, -10, -24, 5, -1, 24, 23, 15, -14, -20, -25, -3, 12, -21, 18, -7, -16, -11, 12, 10, -14, 16, -2, 4, 8, -23, -6, -3, 20, -4, -5, -5, 24, 20, -1, -14, -24, 16, -7, 11, -13, 11, 16, -15, 7, 6, 22, -4, 6, 22, 17, 11, -22, -13, 17, -23, 14, 7, 18, -3, -10, 25, -18, -14, -4, 2, -18]\n",
      "[-2, 12, 8, -19, -13, 11, 3, -19, -25, -18, 21, -23, 1, -19, 25, -14, -6, 22, 15, -14, -19, 8, -16, -3, -9, -9, 14, 19, 16, -23, 10, -2, 24, -15, 2, 10, 5, 25, -24, 16, -4, -20, -19, 16, -21, -7, -15, -25, 18, -21, 22, 15, -14, -10, -14, -21, -3, -19, 14, 19, -16, -14, -7, 10, -25, -25, 11, 23, 6, 14, 12, 3, -20, 1, -10, 2, -15, -20, -8, -10, 23, -4, 13, -3, 13, -18, 23, 24, 19, 8, -2, -12, 21, 14, 18, -1, 5, -25, 8, -21]\n",
      "[4, 23, 11, -12, 2, -19, 9, 16, 8, 7, -20, 4, 14, -9, 22, 11, -18, -14, -2, -5, 8, 10, -4, 19, -21, -19, -7, 24, 10, 23, 7, -1, -5, -17, -17, 24, 4, -14, -6, -9, -16, 20, -7, -23, 5, 11, -24, 20, 20, 19, 6, 18, 23, 10, 15, -4, -25, 23, -4, 0, -6, 12, -7, 9, -6, 10, 11, -25, 15, 18, 11, 3, 6, 0, 20, -8, 14, 1, -25, 8, 6, 14, -14, 21, -2, 12, 4, 15, -19, -19, 14, 23, 18, 10, 14, -7, -9, -4, 13, -22]\n"
     ]
    }
   ],
   "source": [
    "matrix = []\n",
    "\n",
    "with open('Random2.csv') as file:\n",
    "    reader = file.read().splitlines()\n",
    "    \n",
    "    \n",
    "    for row in reader:\n",
    "        row = row.strip(',')\n",
    "        row = row.split(',')\n",
    "        row_as_int = []\n",
    "        for val in row:\n",
    "            row_as_int.append(int(val))\n",
    "        matrix.append(row_as_int)\n",
    "        \n",
    "print(matrix[0])   \n",
    "print(matrix[1]) \n",
    "print(matrix[2]) \n",
    "print(matrix[3]) "
   ]
  },
  {
   "cell_type": "markdown",
   "metadata": {},
   "source": [
    "# Make sure that everyone gets the same exact print line, since they will need to use this file for the homework! Can alternatively have them open the csv to check if running out of time etc. "
   ]
  },
  {
   "cell_type": "code",
   "execution_count": null,
   "metadata": {},
   "outputs": [],
   "source": []
  }
 ],
 "metadata": {
  "kernelspec": {
   "display_name": "Python 3",
   "language": "python",
   "name": "python3"
  },
  "language_info": {
   "codemirror_mode": {
    "name": "ipython",
    "version": 3
   },
   "file_extension": ".py",
   "mimetype": "text/x-python",
   "name": "python",
   "nbconvert_exporter": "python",
   "pygments_lexer": "ipython3",
   "version": "3.6.5"
  }
 },
 "nbformat": 4,
 "nbformat_minor": 2
}
