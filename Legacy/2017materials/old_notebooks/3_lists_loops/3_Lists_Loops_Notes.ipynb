{
 "cells": [
  {
   "cell_type": "markdown",
   "metadata": {
    "nbpresent": {
     "id": "20db530f-5bc2-4262-b47a-31b3519ef705"
    }
   },
   "source": [
    "### How to Learn To Code \n",
    "- - -\n",
    "# **Lists and Loops**\n",
    "##### June 27, 2017\n",
    "* * *"
   ]
  },
  {
   "cell_type": "markdown",
   "metadata": {
    "nbpresent": {
     "id": "0d63b9fd-786f-418b-a1d7-267f786cb70d"
    }
   },
   "source": [
    "### Lists\n",
    "* Most versatile python data structure\n",
    "* Comma-separated values (elements) surrounded by []\n",
    "* Values can be anything\n"
   ]
  },
  {
   "cell_type": "code",
   "execution_count": 1,
   "metadata": {
    "collapsed": false,
    "nbpresent": {
     "id": "8e059a2d-2ba2-4124-83a5-71dbbf54875c"
    }
   },
   "outputs": [
    {
     "name": "stdout",
     "output_type": "stream",
     "text": [
      "['Abigail', 'Brandon', 'Charles']\n",
      "Abigail\n",
      "['Abigail', 'Brandon']\n"
     ]
    }
   ],
   "source": [
    "students = [\"Abigail\", \"Brandon\", \"Charles\"]\n",
    "grades = [99, \"A++\", \"F\"]\n",
    "print(students)\n",
    "print(students[0])\n",
    "print(students[0:2])\n"
   ]
  },
  {
   "cell_type": "markdown",
   "metadata": {
    "nbpresent": {
     "id": "145bb544-945e-4461-a5b1-071d75eeaa45"
    }
   },
   "source": [
    "### Working with lists\n",
    "* list.index()\n",
    "* list.append()\n",
    "* list.extend()\n",
    "* list.sort()\n"
   ]
  },
  {
   "cell_type": "code",
   "execution_count": 3,
   "metadata": {
    "collapsed": false,
    "nbpresent": {
     "id": "10820bcd-9dc7-477f-8ced-ea1fd80810ec"
    },
    "scrolled": true
   },
   "outputs": [
    {
     "name": "stdout",
     "output_type": "stream",
     "text": [
      "['Abby', 'Abigail', 'Brandon', 'Charles']\n",
      "2\n"
     ]
    }
   ],
   "source": [
    "students = [\"Abigail\", \"Brandon\", \"Charles\"]\n",
    "students.append(\"Abby\")\n",
    "students.sort()\n",
    "print(students)\n",
    "print(students.index(\"Brandon\"))"
   ]
  },
  {
   "cell_type": "markdown",
   "metadata": {
    "nbpresent": {
     "id": "ac69a427-13a4-468b-bb22-685dea5352bd"
    }
   },
   "source": [
    "### Writing a Loop\n",
    "\n"
   ]
  },
  {
   "cell_type": "code",
   "execution_count": 33,
   "metadata": {
    "collapsed": false,
    "nbpresent": {
     "id": "13815304-f4f8-429b-a129-848267a4c53c"
    },
    "scrolled": true
   },
   "outputs": [
    {
     "name": "stdout",
     "output_type": "stream",
     "text": [
      "Abigail is a student.\n",
      "Brandon is a student.\n",
      "Charles is a student.\n"
     ]
    }
   ],
   "source": [
    "students = [\"Abigail\",\"Brandon\",\"Charles\"]\n",
    "for name in students:\n",
    "    print(name + \" is a student.\")"
   ]
  },
  {
   "cell_type": "markdown",
   "metadata": {
    "nbpresent": {
     "id": "078399b4-240b-49ff-aca7-f25b04836180"
    }
   },
   "source": [
    "### For Loop\n",
    "* for _variableName_ in _listName_\n",
    "* iterates through _listName_ assigning each **element** to _variableName_\n",
    "* only loops through code in tab-indented block"
   ]
  },
  {
   "cell_type": "code",
   "execution_count": 4,
   "metadata": {
    "collapsed": false,
    "nbpresent": {
     "id": "04c764a8-b0e0-4fd0-bc74-4f0d4d70c529"
    }
   },
   "outputs": [
    {
     "name": "stdout",
     "output_type": "stream",
     "text": [
      "Name Length = 7\n",
      "Abigail starts with A\n",
      "Name Length = 7\n",
      "Brandon starts with B\n",
      "Name Length = 7\n",
      "Charles starts with C\n",
      "End of loop\n"
     ]
    }
   ],
   "source": [
    "students = [\"Abigail\",\"Brandon\",\"Charles\"]\n",
    "for name in students:\n",
    "    name_length = len(name)\n",
    "    print(\"Name Length = \" + str(name_length))\n",
    "    first_character = name[0]\n",
    "    print(name + \" starts with \" + first_character)\n",
    "    \n",
    "print(\"End of loop\")\n"
   ]
  },
  {
   "cell_type": "markdown",
   "metadata": {
    "nbpresent": {
     "id": "f205529b-514a-4cf3-b176-b78e572b217e"
    }
   },
   "source": [
    "### Looping through a string\n",
    "* for _variableName_ in _stringName_\n",
    "* iterates through _stringName_ assigning each **character** in the string to _variableName_"
   ]
  },
  {
   "cell_type": "code",
   "execution_count": 6,
   "metadata": {
    "collapsed": false,
    "nbpresent": {
     "id": "dc0fb2be-28d3-4a1a-a6d5-ff3f461c5f5f"
    },
    "scrolled": true
   },
   "outputs": [
    {
     "name": "stdout",
     "output_type": "stream",
     "text": [
      "A\n",
      "G\n",
      "C\n",
      "T\n",
      "A\n",
      "A\n",
      "T\n",
      "A\n",
      "A\n",
      "A\n"
     ]
    }
   ],
   "source": [
    "my_dna = \"AGCTAATAAA\"\n",
    "for base in my_dna:\n",
    "    print(base)"
   ]
  },
  {
   "cell_type": "markdown",
   "metadata": {
    "nbpresent": {
     "id": "43e21bb5-6413-44cc-b618-14a36367c2c3"
    }
   },
   "source": [
    "### Looping through a file\n",
    "* for _variableName_ in _fileName_\n",
    "* iterates through _stringName_ assigning each **line** in the file to _variableName_"
   ]
  },
  {
   "cell_type": "code",
   "execution_count": 9,
   "metadata": {
    "collapsed": false,
    "nbpresent": {
     "id": "52be9f33-d7a9-4571-a549-a265bfdf6d76"
    },
    "scrolled": false
   },
   "outputs": [
    {
     "name": "stdout",
     "output_type": "stream",
     "text": [
      "AAAACCTCGATCCTAG\n",
      "TTTTCCTAGCCGGATC\n",
      "CCCCTAGCTGGGCTCA\n",
      "GGGGCTATTTCGCGAA\n"
     ]
    }
   ],
   "source": [
    "my_file = open(\"multiline_sequences.txt\")\n",
    "for line in my_file:\n",
    "    print(line.strip())"
   ]
  },
  {
   "cell_type": "markdown",
   "metadata": {
    "nbpresent": {
     "id": "dab8bb84-55fb-458f-92a5-cefbebfca656"
    }
   },
   "source": [
    "### Looping through a file (pitfalls)\n",
    "* not looping through the **file object**\n",
    "* exhausting the file"
   ]
  },
  {
   "cell_type": "code",
   "execution_count": 56,
   "metadata": {
    "collapsed": false,
    "nbpresent": {
     "id": "d37de9a6-ca9e-4ac7-adbe-bbebcdcbc778"
    },
    "scrolled": false
   },
   "outputs": [
    {
     "name": "stdout",
     "output_type": "stream",
     "text": [
      "Length is: 17\n",
      "Length is: 17\n",
      "Length is: 17\n",
      "Length is: 17\n",
      "First base is A\n",
      "First base is T\n",
      "First base is C\n",
      "First base is G\n"
     ]
    }
   ],
   "source": [
    "#After looping through all the lines in the file\n",
    "#the file becomes 'exhausted' and must be reopened before looping again\n",
    "my_file = open(\"multiline_sequences.txt\")\n",
    "for line in my_file:\n",
    "    print(\"Length is: \" + str(len(line)))\n",
    "my_file.close()\n",
    "\n",
    "my_file = open(\"multiline_sequences.txt\")\n",
    "for line in my_file:\n",
    "    first_character = line[0]\n",
    "    print(\"First base is \" + first_character)"
   ]
  },
  {
   "cell_type": "markdown",
   "metadata": {
    "nbpresent": {
     "id": "70af663b-7d7e-4343-8d71-b568d2e2f7d2"
    }
   },
   "source": [
    "### Creating lists to loop through\n",
    "* str.split()\n",
    "* file.readlines()"
   ]
  },
  {
   "cell_type": "code",
   "execution_count": 10,
   "metadata": {
    "collapsed": false,
    "nbpresent": {
     "id": "d3b5d68b-92bb-4c52-bcda-6eb24f1581ff"
    },
    "scrolled": false
   },
   "outputs": [
    {
     "name": "stdout",
     "output_type": "stream",
     "text": [
      "['Abigail', 'Brandon', 'Charles']\n",
      "['AAAACCTCGATCCTAG\\n', 'TTTTCCTAGCCGGATC\\n', 'CCCCTAGCTGGGCTCA\\n', 'GGGGCTATTTCGCGAA\\n']\n"
     ]
    }
   ],
   "source": [
    "#Convert string into list \n",
    "names = \"Abigail,Brandon,Charles\"\n",
    "print(names.split(\",\"))\n",
    "\n",
    "#Convert multiline file to list with each line being an element\n",
    "with open(\"multiline_sequences.txt\") as my_file:\n",
    "    print(my_file.readlines())\n"
   ]
  },
  {
   "cell_type": "markdown",
   "metadata": {
    "nbpresent": {
     "id": "d8122b99-dd95-404f-8dcf-6045ebf27546"
    }
   },
   "source": [
    "### Looping with Ranges\n",
    "* Looping through indicies rather than the elements"
   ]
  },
  {
   "cell_type": "code",
   "execution_count": 11,
   "metadata": {
    "collapsed": false,
    "nbpresent": {
     "id": "9d09bf9e-14f6-4561-8ac0-77ac4ed7a8bf"
    },
    "scrolled": true
   },
   "outputs": [
    {
     "name": "stdout",
     "output_type": "stream",
     "text": [
      "Abigail has an A\n",
      "Brandon has an A++\n",
      "Charles has an F\n"
     ]
    }
   ],
   "source": [
    "students = [\"Abigail\",\"Brandon\",\"Charles\"]\n",
    "grades = [\"A\",\"A++\",\"F\"]\n",
    "\n",
    "for index in range(3):\n",
    "    print(students[index] + \" has an \" + grades[index])\n"
   ]
  },
  {
   "cell_type": "markdown",
   "metadata": {},
   "source": [
    "### range()\n"
   ]
  },
  {
   "cell_type": "code",
   "execution_count": 14,
   "metadata": {
    "collapsed": false,
    "scrolled": true
   },
   "outputs": [
    {
     "name": "stdout",
     "output_type": "stream",
     "text": [
      "0\n",
      "1\n",
      "2\n",
      "3\n",
      "4\n"
     ]
    }
   ],
   "source": [
    "for i in range(5):\n",
    "    print(i)"
   ]
  },
  {
   "cell_type": "code",
   "execution_count": 13,
   "metadata": {
    "collapsed": false
   },
   "outputs": [
    {
     "name": "stdout",
     "output_type": "stream",
     "text": [
      "3\n",
      "4\n",
      "5\n",
      "6\n",
      "7\n"
     ]
    }
   ],
   "source": [
    "for i in range(3,8):\n",
    "    print(i)"
   ]
  },
  {
   "cell_type": "code",
   "execution_count": 16,
   "metadata": {
    "collapsed": false
   },
   "outputs": [
    {
     "name": "stdout",
     "output_type": "stream",
     "text": [
      "1\n",
      "3\n",
      "5\n",
      "7\n",
      "9\n"
     ]
    }
   ],
   "source": [
    "for i in range(1,10,2):\n",
    "    print(i)"
   ]
  }
 ],
 "metadata": {
  "anaconda-cloud": {},
  "kernelspec": {
   "display_name": "Python 3",
   "language": "python",
   "name": "python3"
  },
  "language_info": {
   "codemirror_mode": {
    "name": "ipython",
    "version": 3
   },
   "file_extension": ".py",
   "mimetype": "text/x-python",
   "name": "python",
   "nbconvert_exporter": "python",
   "pygments_lexer": "ipython3",
   "version": "3.6.4"
  },
  "nbpresent": {
   "slides": {
    "0ff1a10b-93de-4b19-b882-05412c42d649": {
     "id": "0ff1a10b-93de-4b19-b882-05412c42d649",
     "layout": "manual",
     "prev": "80d4e9b3-6f06-4704-9a94-ba3d1f1b0df1",
     "regions": {
      "41ebe195-d360-4cb9-ba19-fe86fae99d83": {
       "attrs": {
        "height": 0.16666666666666666,
        "pad": 0.01,
        "width": 0.75,
        "x": 0.0833333333333333,
        "y": 0.8333333333333334
       },
       "content": {
        "cell": "dc0fb2be-28d3-4a1a-a6d5-ff3f461c5f5f",
        "part": "outputs"
       },
       "id": "41ebe195-d360-4cb9-ba19-fe86fae99d83"
      },
      "47d57b8e-81a8-4986-866c-fdcf11c83755": {
       "attrs": {
        "height": 0.3680139822167922,
        "pad": 0.01,
        "width": 0.75,
        "x": 0.08333333333333333,
        "y": 0.4653193511165411
       },
       "content": {
        "cell": "dc0fb2be-28d3-4a1a-a6d5-ff3f461c5f5f",
        "part": "source"
       },
       "id": "47d57b8e-81a8-4986-866c-fdcf11c83755"
      },
      "9d9f5834-2cee-4750-8bf5-a50c612c7941": {
       "attrs": {
        "height": 0.3333333333333333,
        "pad": 0.01,
        "width": 0.75,
        "x": 0.08333333333333333,
        "y": 0.08333333333333333
       },
       "content": {
        "cell": "f205529b-514a-4cf3-b176-b78e572b217e",
        "part": "source"
       },
       "id": "9d9f5834-2cee-4750-8bf5-a50c612c7941"
      }
     }
    },
    "17c83c19-8506-4748-a936-dfa472039ac8": {
     "id": "17c83c19-8506-4748-a936-dfa472039ac8",
     "layout": "manual",
     "prev": "bb2f01e6-3d4f-4a74-9f0b-67b27c44f0f3",
     "regions": {
      "610f63ab-75d7-416e-af69-951ce33dbc2c": {
       "attrs": {
        "height": 0.18751781714518428,
        "pad": 0.01,
        "width": 0.75,
        "x": 0.0843107310120138,
        "y": 0.8159573746012353
       },
       "content": {
        "cell": "d37de9a6-ca9e-4ac7-adbe-bbebcdcbc778",
        "part": "outputs"
       },
       "id": "610f63ab-75d7-416e-af69-951ce33dbc2c"
      },
      "971f518a-2db2-42f9-8727-d1a99c0ca304": {
       "attrs": {
        "height": 0.3124821828548157,
        "pad": 0.01,
        "width": 0.75,
        "x": 0.08333333333333333,
        "y": 0.08333333333333333
       },
       "content": {
        "cell": "dab8bb84-55fb-458f-92a5-cefbebfca656",
        "part": "source"
       },
       "id": "971f518a-2db2-42f9-8727-d1a99c0ca304"
      },
      "caa42951-a8e0-4269-8ab8-6e0265754ce5": {
       "attrs": {
        "height": 0.39581551618814903,
        "pad": 0.01,
        "width": 0.75,
        "x": 0.08333333333333333,
        "y": 0.40276589968098825
       },
       "content": {
        "cell": "d37de9a6-ca9e-4ac7-adbe-bbebcdcbc778",
        "part": "source"
       },
       "id": "caa42951-a8e0-4269-8ab8-6e0265754ce5"
      }
     }
    },
    "2dae7629-51bd-4024-a32f-6ae066528ae4": {
     "id": "2dae7629-51bd-4024-a32f-6ae066528ae4",
     "layout": "manual",
     "prev": "32b115ce-bad0-44ea-9948-d83b7c67e02d",
     "regions": {
      "44316e48-3a28-447d-9395-41a8dbb34cf0": {
       "attrs": {
        "height": 0.20836896762370188,
        "pad": 0.01,
        "width": 0.75,
        "x": 0.08137853797597228,
        "y": 0.7777302123634019
       },
       "content": {
        "cell": "8e059a2d-2ba2-4124-83a5-71dbbf54875c",
        "part": "outputs"
       },
       "id": "44316e48-3a28-447d-9395-41a8dbb34cf0"
      },
      "9bce7437-5e7d-46b9-891b-c56e35099cf0": {
       "attrs": {
        "height": 0.2881558406298785,
        "pad": 0.01,
        "width": 0.75,
        "x": 0.08333333333333333,
        "y": 0.5
       },
       "content": {
        "cell": "8e059a2d-2ba2-4124-83a5-71dbbf54875c",
        "part": "source"
       },
       "id": "9bce7437-5e7d-46b9-891b-c56e35099cf0"
      },
      "dc7a6679-84ee-4b49-9a0d-82f6f2b45931": {
       "attrs": {
        "height": 0.39929070793456867,
        "pad": 0.01,
        "width": 0.75,
        "x": 0.08333333333333333,
        "y": 0.08333333333333333
       },
       "content": {
        "cell": "0d63b9fd-786f-418b-a1d7-267f786cb70d",
        "part": "source"
       },
       "id": "dc7a6679-84ee-4b49-9a0d-82f6f2b45931"
      }
     }
    },
    "32b115ce-bad0-44ea-9948-d83b7c67e02d": {
     "id": "32b115ce-bad0-44ea-9948-d83b7c67e02d",
     "prev": null,
     "regions": {
      "723542f5-1133-43d9-bf36-96065c018a8d": {
       "attrs": {
        "height": 0.8,
        "width": 0.8,
        "x": 0.1,
        "y": 0.1
       },
       "content": {
        "cell": "20db530f-5bc2-4262-b47a-31b3519ef705",
        "part": "source"
       },
       "id": "723542f5-1133-43d9-bf36-96065c018a8d"
      },
      "8e68dee3-3d53-424c-86e5-240097543117": {
       "attrs": {
        "height": 1,
        "width": 1,
        "x": 0,
        "y": 0
       },
       "id": "8e68dee3-3d53-424c-86e5-240097543117"
      }
     }
    },
    "53a394ef-05e9-4fb7-9bf6-0e394b2da04b": {
     "id": "53a394ef-05e9-4fb7-9bf6-0e394b2da04b",
     "layout": "manual",
     "prev": "17c83c19-8506-4748-a936-dfa472039ac8",
     "regions": {
      "0427faf5-062d-4d16-a38c-62b0bbc6235f": {
       "attrs": {
        "height": 0.39581551618814903,
        "pad": 0.01,
        "width": 0.75,
        "x": 0.08333333333333333,
        "y": 0.40276589968098825
       },
       "content": {
        "cell": "d3b5d68b-92bb-4c52-bcda-6eb24f1581ff",
        "part": "source"
       },
       "id": "0427faf5-062d-4d16-a38c-62b0bbc6235f"
      },
      "7d81c7a2-6042-4edc-b4be-e5470e0e51ba": {
       "attrs": {
        "height": 0.3124821828548157,
        "pad": 0.01,
        "width": 0.75,
        "x": 0.08333333333333333,
        "y": 0.08333333333333333
       },
       "content": {
        "cell": "70af663b-7d7e-4343-8d71-b568d2e2f7d2",
        "part": "source"
       },
       "id": "7d81c7a2-6042-4edc-b4be-e5470e0e51ba"
      },
      "be2d9877-669b-45cd-8b70-e5f2a6644773": {
       "attrs": {
        "height": 0.18751781714518428,
        "pad": 0.01,
        "width": 0.75,
        "x": 0.0843107310120138,
        "y": 0.8159573746012353
       },
       "content": {
        "cell": "d3b5d68b-92bb-4c52-bcda-6eb24f1581ff",
        "part": "outputs"
       },
       "id": "be2d9877-669b-45cd-8b70-e5f2a6644773"
      }
     }
    },
    "5e22874a-397d-4c63-88e2-eb4e94bb11a1": {
     "id": "5e22874a-397d-4c63-88e2-eb4e94bb11a1",
     "layout": "manual",
     "prev": "2dae7629-51bd-4024-a32f-6ae066528ae4",
     "regions": {
      "0dbda718-1f20-4c2d-b867-f462316be059": {
       "attrs": {
        "height": 0.16666666666666666,
        "pad": 0.01,
        "width": 0.75,
        "x": 0.0833333333333333,
        "y": 0.8124821828548158
       },
       "content": {
        "cell": "10820bcd-9dc7-477f-8ced-ea1fd80810ec",
        "part": "outputs"
       },
       "id": "0dbda718-1f20-4c2d-b867-f462316be059"
      },
      "7883adcc-dc72-4227-a21c-8d6491876eb5": {
       "attrs": {
        "height": 0.2830143215909862,
        "pad": 0.01,
        "width": 0.75,
        "x": 0.08626552636937483,
        "y": 0.5278015339713569
       },
       "content": {
        "cell": "10820bcd-9dc7-477f-8ced-ea1fd80810ec",
        "part": "source"
       },
       "id": "7883adcc-dc72-4227-a21c-8d6491876eb5"
      },
      "e755a6bf-36ca-43d5-a3dc-ca84fcbb8bb0": {
       "attrs": {
        "height": 0.4166666666666667,
        "pad": 0.01,
        "width": 0.75,
        "x": 0.08333333333333333,
        "y": 0.08333333333333333
       },
       "content": {
        "cell": "145bb544-945e-4461-a5b1-071d75eeaa45",
        "part": "source"
       },
       "id": "e755a6bf-36ca-43d5-a3dc-ca84fcbb8bb0"
      }
     }
    },
    "80d4e9b3-6f06-4704-9a94-ba3d1f1b0df1": {
     "id": "80d4e9b3-6f06-4704-9a94-ba3d1f1b0df1",
     "layout": "manual",
     "prev": "bd48d9cf-40f9-48ca-8884-02ed20bbecb4",
     "regions": {
      "7316da15-f854-4c14-ae9f-c3f19f3ff211": {
       "attrs": {
        "height": 0.3158861060204982,
        "pad": 0.01,
        "width": 0.75,
        "x": 0.08333333333333333,
        "y": 0.5174472273128351
       },
       "content": {
        "cell": "04c764a8-b0e0-4fd0-bc74-4f0d4d70c529",
        "part": "source"
       },
       "id": "7316da15-f854-4c14-ae9f-c3f19f3ff211"
      },
      "ce95b265-0674-4367-9353-4a6d9be43d3d": {
       "attrs": {
        "height": 0.16666666666666666,
        "pad": 0.01,
        "width": 0.75,
        "x": 0.0833333333333333,
        "y": 0.8333333333333334
       },
       "content": {
        "cell": "04c764a8-b0e0-4fd0-bc74-4f0d4d70c529",
        "part": "outputs"
       },
       "id": "ce95b265-0674-4367-9353-4a6d9be43d3d"
      },
      "e28b4e85-94bd-4817-be26-0d1e64e694a2": {
       "attrs": {
        "height": 0.38546120952962737,
        "pad": 0.01,
        "width": 0.75,
        "x": 0.08333333333333333,
        "y": 0.08333333333333333
       },
       "content": {
        "cell": "078399b4-240b-49ff-aca7-f25b04836180",
        "part": "source"
       },
       "id": "e28b4e85-94bd-4817-be26-0d1e64e694a2"
      }
     }
    },
    "bb2f01e6-3d4f-4a74-9f0b-67b27c44f0f3": {
     "id": "bb2f01e6-3d4f-4a74-9f0b-67b27c44f0f3",
     "layout": "manual",
     "prev": "0ff1a10b-93de-4b19-b882-05412c42d649",
     "regions": {
      "32f0574c-6bec-4236-9700-135759d5c8f2": {
       "attrs": {
        "height": 0.37503563429036857,
        "pad": 0.01,
        "width": 0.75,
        "x": 0.08333333333333333,
        "y": 0.08333333333333333
       },
       "content": {
        "cell": "43e21bb5-6413-44cc-b618-14a36367c2c3",
        "part": "source"
       },
       "id": "32f0574c-6bec-4236-9700-135759d5c8f2"
      },
      "3d63909d-d4d9-4171-9098-c680d5bf01ea": {
       "attrs": {
        "height": 0.27939659268309236,
        "pad": 0.01,
        "width": 0.75,
        "x": 0.08333333333333333,
        "y": 0.4653193511165411
       },
       "content": {
        "cell": "52be9f33-d7a9-4571-a549-a265bfdf6d76",
        "part": "source"
       },
       "id": "3d63909d-d4d9-4171-9098-c680d5bf01ea"
      },
      "7798b3d3-98df-4a39-86e0-ecdb4b9995b0": {
       "attrs": {
        "height": 0.23790809746826852,
        "pad": 0.01,
        "width": 0.75,
        "x": 0.0833333333333333,
        "y": 0.7620919025317315
       },
       "content": {
        "cell": "52be9f33-d7a9-4571-a549-a265bfdf6d76",
        "part": "outputs"
       },
       "id": "7798b3d3-98df-4a39-86e0-ecdb4b9995b0"
      }
     }
    },
    "bd48d9cf-40f9-48ca-8884-02ed20bbecb4": {
     "id": "bd48d9cf-40f9-48ca-8884-02ed20bbecb4",
     "layout": "manual",
     "prev": "5e22874a-397d-4c63-88e2-eb4e94bb11a1",
     "regions": {
      "34f81eab-cf37-4ef2-bbf3-9f20c16a88d4": {
       "attrs": {
        "height": 0.11712476880133037,
        "width": 0.7511301160659744,
        "x": 0.08436163714111179,
        "y": 0.0982624041267902
       },
       "content": {
        "cell": "ac69a427-13a4-468b-bb22-685dea5352bd",
        "part": "source"
       },
       "id": "34f81eab-cf37-4ef2-bbf3-9f20c16a88d4"
      },
      "93016530-2788-4c04-8bb2-32d73d8cf02f": {
       "attrs": {
        "height": 0.1768814030994536,
        "pad": 0.01,
        "width": 0.75,
        "x": 0.0843107310120138,
        "y": 0.22928841974721714
       },
       "content": {
        "cell": "033377b7-5bc1-4345-b27b-c271d63bf6d8",
        "part": "outputs"
       },
       "id": "93016530-2788-4c04-8bb2-32d73d8cf02f"
      },
      "b104d75d-2fd8-4f08-a146-461bc104c677": {
       "attrs": {
        "height": 0.16666666666666666,
        "pad": 0.01,
        "width": 0.75,
        "x": 0.0833333333333333,
        "y": 0.8124821828548158
       },
       "content": {
        "cell": "13815304-f4f8-429b-a129-848267a4c53c",
        "part": "outputs"
       },
       "id": "b104d75d-2fd8-4f08-a146-461bc104c677"
      },
      "ff4f462e-001a-4335-a577-c8e43e40f1dd": {
       "attrs": {
        "height": 0.39248286160320367,
        "pad": 0.01,
        "width": 0.75,
        "x": 0.08626552636937483,
        "y": 0.4183329939591394
       },
       "content": {
        "cell": "13815304-f4f8-429b-a129-848267a4c53c",
        "part": "source"
       },
       "id": "ff4f462e-001a-4335-a577-c8e43e40f1dd"
      }
     }
    },
    "d0a312d3-e2a8-4291-956e-d011ee66e591": {
     "id": "d0a312d3-e2a8-4291-956e-d011ee66e591",
     "layout": "manual",
     "prev": "53a394ef-05e9-4fb7-9bf6-0e394b2da04b",
     "regions": {
      "5947c7a2-512d-43a6-8bb1-d63135e64b0d": {
       "attrs": {
        "height": 0.18751781714518428,
        "pad": 0.01,
        "width": 0.75,
        "x": 0.0843107310120138,
        "y": 0.8159573746012353
       },
       "content": {
        "cell": "9d09bf9e-14f6-4561-8ac0-77ac4ed7a8bf",
        "part": "outputs"
       },
       "id": "5947c7a2-512d-43a6-8bb1-d63135e64b0d"
      },
      "b89b60b1-5c85-4596-a382-59dad0403f0f": {
       "attrs": {
        "height": 0.3124821828548157,
        "pad": 0.01,
        "width": 0.75,
        "x": 0.08333333333333333,
        "y": 0.08333333333333333
       },
       "content": {
        "cell": "d8122b99-dd95-404f-8dcf-6045ebf27546",
        "part": "source"
       },
       "id": "b89b60b1-5c85-4596-a382-59dad0403f0f"
      },
      "c7d5da0a-7844-47bc-befc-655d1dc45686": {
       "attrs": {
        "height": 0.39581551618814903,
        "pad": 0.01,
        "width": 0.75,
        "x": 0.08333333333333333,
        "y": 0.40276589968098825
       },
       "content": {
        "cell": "9d09bf9e-14f6-4561-8ac0-77ac4ed7a8bf",
        "part": "source"
       },
       "id": "c7d5da0a-7844-47bc-befc-655d1dc45686"
      }
     }
    }
   },
   "themes": {
    "default": "1ef7f928-b899-4d6f-b2b3-1a68c094c0e0",
    "theme": {
     "1ef7f928-b899-4d6f-b2b3-1a68c094c0e0": {
      "backgrounds": {
       "my-background": {
        "background-color": "white"
       }
      },
      "id": "1ef7f928-b899-4d6f-b2b3-1a68c094c0e0",
      "palette": {
       "my-black": {
        "id": "my-black",
        "rgb": [
         0,
         0,
         0
        ]
       },
       "tar-blue": {
        "id": "tar-blue",
        "rgb": [
         75,
         156,
         211
        ]
       }
      },
      "rules": {
       "code": {},
       "h1": {
        "color": "tar-blue",
        "font-size": 10
       },
       "h2": {
        "color": "tar-blue",
        "font-size": 7
       },
       "h3": {
        "color": "tar-blue",
        "font-size": 5
       },
       "h4": {
        "color": "black",
        "font-size": 4
       },
       "h5": {
        "color": "black",
        "font-size": 3
       },
       "h6": {
        "color": "black",
        "font-size": 2
       },
       "h7": {
        "color": "black",
        "font-size": 1
       },
       "li": {
        "color": "black",
        "font-size": 3.3
       },
       "pre": {
        "font-size": 3.1
       }
      },
      "text-base": {
       "font-family": "Inconsolata",
       "font-size": 5
      }
     },
     "26ace33a-f502-48bb-a15a-9d6e1061771f": {
      "backgrounds": {
       "my-background": {
        "background-color": "white"
       }
      },
      "id": "26ace33a-f502-48bb-a15a-9d6e1061771f",
      "palette": {
       "my-black": {
        "id": "my-black",
        "rgb": [
         0,
         0,
         0
        ]
       },
       "tar-blue": {
        "id": "tar-blue",
        "rgb": [
         75,
         156,
         211
        ]
       }
      },
      "rules": {
       "code": {},
       "h1": {
        "color": "tar-blue",
        "font-size": 10
       },
       "h2": {
        "color": "tar-blue",
        "font-size": 7
       },
       "h3": {
        "color": "tar-blue",
        "font-size": 5
       },
       "h4": {
        "color": "black",
        "font-size": 4
       },
       "h5": {
        "color": "black",
        "font-size": 3
       },
       "h6": {
        "color": "black",
        "font-size": 2
       },
       "h7": {
        "color": "black",
        "font-size": 1
       },
       "li": {
        "color": "black",
        "font-size": 3.3
       },
       "pre": {
        "font-size": 2
       }
      },
      "text-base": {
       "font-family": "Inconsolata",
       "font-size": 5
      }
     },
     "3ff86be6-4937-46f1-a76b-3d0cba39e4ea": {
      "backgrounds": {
       "my-background": {
        "background-color": "white"
       }
      },
      "id": "3ff86be6-4937-46f1-a76b-3d0cba39e4ea",
      "palette": {
       "my-black": {
        "id": "my-black",
        "rgb": [
         0,
         0,
         0
        ]
       },
       "tar-blue": {
        "id": "tar-blue",
        "rgb": [
         75,
         156,
         211
        ]
       }
      },
      "rules": {
       "code": {},
       "h1": {
        "color": "tar-blue",
        "font-size": 10
       },
       "h2": {
        "color": "tar-blue",
        "font-size": 7
       },
       "h3": {
        "color": "tar-blue",
        "font-size": 5
       },
       "h4": {
        "color": "black",
        "font-size": 4
       },
       "h5": {
        "color": "black",
        "font-size": 3
       },
       "h6": {
        "color": "black",
        "font-size": 2
       },
       "h7": {
        "color": "black",
        "font-size": 1
       },
       "li": {
        "color": "black",
        "font-size": 3.3
       },
       "pre": {
        "font-size": 2.5
       }
      },
      "text-base": {
       "font-family": "Inconsolata",
       "font-size": 5
      }
     },
     "5627f8f8-9e8d-4bd9-a9ca-ba78095bab04": {
      "backgrounds": {
       "my-background": {
        "background-color": "white"
       }
      },
      "id": "5627f8f8-9e8d-4bd9-a9ca-ba78095bab04",
      "palette": {
       "my-black": {
        "id": "my-black",
        "rgb": [
         0,
         0,
         0
        ]
       },
       "tar-blue": {
        "id": "tar-blue",
        "rgb": [
         75,
         156,
         211
        ]
       }
      },
      "rules": {
       "code": {},
       "h1": {
        "color": "tar-blue",
        "font-size": 10
       },
       "h2": {
        "color": "tar-blue",
        "font-size": 7
       },
       "h3": {
        "color": "tar-blue",
        "font-size": 5
       },
       "h4": {
        "color": "black",
        "font-size": 4
       },
       "h5": {
        "color": "black",
        "font-size": 3
       },
       "h6": {
        "color": "black",
        "font-size": 2
       },
       "h7": {
        "color": "black",
        "font-size": 1
       },
       "li": {
        "color": "black",
        "font-size": 3.3
       },
       "pre": {
        "font-size": 2.3
       }
      },
      "text-base": {
       "font-family": "Inconsolata",
       "font-size": 5
      }
     },
     "8769ec07-4a52-4636-ace5-1a302cf89a3c": {
      "backgrounds": {
       "my-background": {
        "background-color": "white"
       }
      },
      "id": "8769ec07-4a52-4636-ace5-1a302cf89a3c",
      "palette": {
       "my-black": {
        "id": "my-black",
        "rgb": [
         0,
         0,
         0
        ]
       },
       "tar-blue": {
        "id": "tar-blue",
        "rgb": [
         75,
         156,
         211
        ]
       }
      },
      "rules": {
       "code": {},
       "h1": {
        "color": "tar-blue",
        "font-size": 10
       },
       "h2": {
        "color": "tar-blue",
        "font-size": 7
       },
       "h3": {
        "color": "tar-blue",
        "font-size": 5
       },
       "h4": {
        "color": "black",
        "font-size": 4
       },
       "h5": {
        "color": "black",
        "font-size": 3
       },
       "h6": {
        "color": "black",
        "font-size": 2
       },
       "h7": {
        "color": "black",
        "font-size": 1
       },
       "li": {
        "color": "black",
        "font-size": 3.3
       },
       "pre": {
        "font-size": 2.8
       }
      },
      "text-base": {
       "font-family": "Inconsolata",
       "font-size": 5
      }
     }
    }
   }
  }
 },
 "nbformat": 4,
 "nbformat_minor": 2
}
