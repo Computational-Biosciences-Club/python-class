{
 "cells": [
  {
   "cell_type": "markdown",
   "metadata": {},
   "source": [
    "### How to Learn To Code \n",
    "- - -\n",
    "# **File I/O and Lists**\n",
    "###### June 22, 2017\n",
    "* * *"
   ]
  },
  {
   "cell_type": "markdown",
   "metadata": {},
   "source": [
    "## Opening a File"
   ]
  },
  {
   "cell_type": "code",
   "execution_count": 28,
   "metadata": {},
   "outputs": [],
   "source": [
    "filepath = 'dna.txt'\n",
    "my_file = open(filepath)"
   ]
  },
  {
   "cell_type": "markdown",
   "metadata": {},
   "source": [
    "## File Objects\n",
    "\n",
    "- cannot directly print a file object"
   ]
  },
  {
   "cell_type": "code",
   "execution_count": 29,
   "metadata": {},
   "outputs": [
    {
     "name": "stdout",
     "output_type": "stream",
     "text": [
      "<_io.TextIOWrapper name='dna.txt' mode='r' encoding='UTF-8'>\n"
     ]
    }
   ],
   "source": [
    "print(my_file)"
   ]
  },
  {
   "cell_type": "markdown",
   "metadata": {},
   "source": [
    "#### Reading a file object"
   ]
  },
  {
   "cell_type": "code",
   "execution_count": 30,
   "metadata": {},
   "outputs": [
    {
     "name": "stdout",
     "output_type": "stream",
     "text": [
      "ATATCGCGAA\n",
      "\n"
     ]
    }
   ],
   "source": [
    "file_contents = my_file.read()\n",
    "print(file_contents)"
   ]
  },
  {
   "cell_type": "markdown",
   "metadata": {},
   "source": [
    "#### \"Exhausting\" a file"
   ]
  },
  {
   "cell_type": "code",
   "execution_count": 22,
   "metadata": {},
   "outputs": [
    {
     "name": "stdout",
     "output_type": "stream",
     "text": [
      "AATCGGCGCTAGGCTAGCTATATCGCGCGTATCG\n"
     ]
    }
   ],
   "source": [
    "my_file = open(filepath)\n",
    "print(my_file.read())"
   ]
  },
  {
   "cell_type": "code",
   "execution_count": 23,
   "metadata": {},
   "outputs": [
    {
     "name": "stdout",
     "output_type": "stream",
     "text": [
      "\n"
     ]
    }
   ],
   "source": [
    "print(my_file.read())"
   ]
  },
  {
   "cell_type": "markdown",
   "metadata": {},
   "source": [
    "No output is displayed because the file object has already been read through.\n",
    "\n",
    "The file must be read in again to start from the beginning. *Maybe go into .seek() if questions are asked*\n",
    "\n",
    "Storing the output into a variable (file_contents) allows us to use the file data without worry about this."
   ]
  },
  {
   "cell_type": "markdown",
   "metadata": {},
   "source": [
    "#### Working with the file"
   ]
  },
  {
   "cell_type": "code",
   "execution_count": 31,
   "metadata": {},
   "outputs": [
    {
     "name": "stdout",
     "output_type": "stream",
     "text": [
      "sequence is ATATCGCGAA\n",
      " and the length is 11\n"
     ]
    }
   ],
   "source": [
    "dna_length = len(file_contents)\n",
    "print('sequence is ' + file_contents + ' and the length is ' + str(dna_length))"
   ]
  },
  {
   "cell_type": "markdown",
   "metadata": {},
   "source": [
    "Output looks strange and the length is incorrect due to a hidden newline ('\\n') character\n",
    "\n",
    "The file we read in is actually 2 lines with the second line being blank"
   ]
  },
  {
   "cell_type": "markdown",
   "metadata": {},
   "source": [
    "#### \"Stripping\" "
   ]
  },
  {
   "cell_type": "code",
   "execution_count": 34,
   "metadata": {},
   "outputs": [
    {
     "name": "stdout",
     "output_type": "stream",
     "text": [
      "sequence is ATATCGCGAA and the length is 10\n"
     ]
    }
   ],
   "source": [
    "my_dna_strip = file_contents.strip('\\n')\n",
    "print('sequence is ' + my_dna_strip + ' and the length is ' + str(len(my_dna_strip)))"
   ]
  },
  {
   "cell_type": "markdown",
   "metadata": {},
   "source": [
    ".strip() removes any leading or trailing instances of the given character"
   ]
  },
  {
   "cell_type": "code",
   "execution_count": 35,
   "metadata": {},
   "outputs": [
    {
     "name": "stdout",
     "output_type": "stream",
     "text": [
      "TATCGCG\n"
     ]
    }
   ],
   "source": [
    "new_dna = my_dna_strip.strip('A')\n",
    "print(new_dna)"
   ]
  },
  {
   "cell_type": "markdown",
   "metadata": {},
   "source": [
    "## Lists"
   ]
  },
  {
   "cell_type": "markdown",
   "metadata": {},
   "source": [
    "* Most versatile python data structure\n",
    "* Comma-separated values (elements) surrounded by []\n",
    "* Values can be anything"
   ]
  },
  {
   "cell_type": "code",
   "execution_count": 38,
   "metadata": {},
   "outputs": [
    {
     "name": "stdout",
     "output_type": "stream",
     "text": [
      "['Abigail', 'Brandon', 'Charles']\n",
      "Abigail\n",
      "['Abigail', 'Brandon']\n"
     ]
    }
   ],
   "source": [
    "students = [\"Abigail\", \"Brandon\", \"Charles\"]\n",
    "grades = [99, \"A++\", \"F\"]\n",
    "print(students)\n",
    "print(students[0])\n",
    "print(students[0:2])\n"
   ]
  },
  {
   "cell_type": "markdown",
   "metadata": {},
   "source": [
    "### Working with lists\n",
    "* list.index()\n",
    "* list.append()\n",
    "* list.extend()\n",
    "* list.sort()\n",
    "* list.count()"
   ]
  },
  {
   "cell_type": "code",
   "execution_count": 37,
   "metadata": {},
   "outputs": [
    {
     "name": "stdout",
     "output_type": "stream",
     "text": [
      "['Abby', 'Abigail', 'Brandon', 'Charles']\n",
      "2\n"
     ]
    }
   ],
   "source": [
    "students = [\"Abigail\", \"Brandon\", \"Charles\"]\n",
    "students.append(\"Abby\")\n",
    "students.sort()\n",
    "print(students)\n",
    "print(students.index(\"Brandon\"))"
   ]
  },
  {
   "cell_type": "markdown",
   "metadata": {},
   "source": [
    "## Using lists to count nucleotides"
   ]
  },
  {
   "cell_type": "code",
   "execution_count": 40,
   "metadata": {},
   "outputs": [
    {
     "name": "stdout",
     "output_type": "stream",
     "text": [
      "ATATCGCGAA\n"
     ]
    }
   ],
   "source": [
    "print(my_dna_strip)"
   ]
  },
  {
   "cell_type": "code",
   "execution_count": 41,
   "metadata": {},
   "outputs": [
    {
     "name": "stdout",
     "output_type": "stream",
     "text": [
      "['A', 'T', 'A', 'T', 'C', 'G', 'C', 'G', 'A', 'A']\n"
     ]
    }
   ],
   "source": [
    "my_dna_list = list(my_dna_strip)\n",
    "print(my_dna_list)"
   ]
  },
  {
   "cell_type": "code",
   "execution_count": 42,
   "metadata": {},
   "outputs": [
    {
     "name": "stdout",
     "output_type": "stream",
     "text": [
      "4\n"
     ]
    }
   ],
   "source": [
    "nt_A = my_dna_list.count('A')\n",
    "print(nt_A)"
   ]
  },
  {
   "cell_type": "markdown",
   "metadata": {},
   "source": [
    "## Writing to a file"
   ]
  },
  {
   "cell_type": "code",
   "execution_count": 44,
   "metadata": {},
   "outputs": [],
   "source": [
    "new_file = open('output.txt', 'w')\n",
    "output_content = 'Greetings planet!'\n",
    "new_file.write(output_content)\n",
    "new_file.close()"
   ]
  },
  {
   "cell_type": "code",
   "execution_count": null,
   "metadata": {},
   "outputs": [],
   "source": []
  }
 ],
 "metadata": {
  "kernelspec": {
   "display_name": "Python 3",
   "language": "python",
   "name": "python3"
  },
  "language_info": {
   "codemirror_mode": {
    "name": "ipython",
    "version": 3
   },
   "file_extension": ".py",
   "mimetype": "text/x-python",
   "name": "python",
   "nbconvert_exporter": "python",
   "pygments_lexer": "ipython3",
   "version": "3.6.4"
  }
 },
 "nbformat": 4,
 "nbformat_minor": 2
}
