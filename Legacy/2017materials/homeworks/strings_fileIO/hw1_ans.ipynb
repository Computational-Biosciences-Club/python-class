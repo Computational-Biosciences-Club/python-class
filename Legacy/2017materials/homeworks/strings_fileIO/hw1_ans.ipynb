{
 "cells": [
  {
   "cell_type": "markdown",
   "metadata": {},
   "source": [
    "# Answer Key for HW1"
   ]
  },
  {
   "cell_type": "markdown",
   "metadata": {},
   "source": [
    "### Stepwise / Expected Answer"
   ]
  },
  {
   "cell_type": "code",
   "execution_count": null,
   "metadata": {},
   "outputs": [],
   "source": [
    "#Open File\n",
    "my_file = open(\"virus.txt\")\n",
    "#Read in sequence\n",
    "sequence = my_file.read()\n",
    "size = len(sequence)\n",
    "sequence_list = list(sequence)\n",
    "#Calculate nucleotide composition\n",
    "fraction_a = sequence_list.count('A')/size\n",
    "fraction_c = sequence_list.count('C')/size\n",
    "fraction_g = sequence_list.count('G')/size\n",
    "fraction_t = sequence_list.count('T')/size\n",
    "#Ouput to console\n",
    "print(\"G: \" + str(fraction_g))\n",
    "print(\"C: \" + str(fraction_c))\n",
    "print(\"A: \" + str(fraction_a))\n",
    "print(\"T: \" + str(fraction_t))\n",
    "print(\"GC: \" + str(fraction_g+fraction_c))\n",
    "print(\"Based on nucleotide sequence, the virus is most similar to: Dengue virus type 3\")\n",
    "#Output to file\n",
    "output_file = open(\"output.txt\",\"w\")\n",
    "output_file.write(\"G: \" + str(fraction_g) + \"\\n\")\n",
    "output_file.write(\"C: \" + str(fraction_c) + \"\\n\")\n",
    "output_file.write(\"A: \" + str(fraction_a) + \"\\n\")\n",
    "output_file.write(\"T: \" + str(fraction_t) + \"\\n\")\n",
    "output_file.write(\"GC: \" + str(fraction_g+fraction_c) + \"\\n\")\n",
    "output_file.write(\"Based on nucleotide sequence, the virus is most similar to: Dengue virus type 3\")\n",
    "\n",
    "#Close Files\n",
    "my_file.close()\n",
    "output_file.close()\n"
   ]
  },
  {
   "cell_type": "markdown",
   "metadata": {},
   "source": [
    "### Cleaner version to review in class"
   ]
  },
  {
   "cell_type": "code",
   "execution_count": 10,
   "metadata": {
    "collapsed": false
   },
   "outputs": [
    {
     "name": "stdout",
     "output_type": "stream",
     "text": [
      "G: 0.2594427823485415\n",
      "C: 0.20736724008975319\n",
      "A: 0.3212415856394914\n",
      "T: 0.21176140613313388\n",
      "GC: 0.4668100224382947\n"
     ]
    }
   ],
   "source": [
    "with open('virus.txt') as virus:\n",
    "    sequence = virus.readline()\n",
    "    size = len(sequence)\n",
    "    a = list(sequence).count('A')/size\n",
    "    c = list(sequence).count('C')/size\n",
    "    g = list(sequence).count('G')/size\n",
    "    t = list(sequence).count('T')/size\n",
    "    print(\"G: \" + str(g))\n",
    "    print(\"C: \" + str(c))\n",
    "    print(\"A: \" + str(a))\n",
    "    print(\"T: \" + str(t))\n",
    "    print(\"GC: \" + str(g+c))"
   ]
  }
 ],
 "metadata": {
  "anaconda-cloud": {},
  "kernelspec": {
   "display_name": "Python 3",
   "language": "python",
   "name": "python3"
  },
  "language_info": {
   "codemirror_mode": {
    "name": "ipython",
    "version": 3
   },
   "file_extension": ".py",
   "mimetype": "text/x-python",
   "name": "python",
   "nbconvert_exporter": "python",
   "pygments_lexer": "ipython3",
   "version": "3.6.4"
  }
 },
 "nbformat": 4,
 "nbformat_minor": 2
}
